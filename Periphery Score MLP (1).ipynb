{
 "cells": [
  {
   "cell_type": "code",
   "execution_count": null,
   "id": "398f9a82",
   "metadata": {},
   "outputs": [],
   "source": [
    "import pandas as pd\n",
    "import numpy as np\n",
    "import matplotlib.pyplot as plt\n",
    "import h5py\n",
    "from collections import Counter\n",
    "import numpy as np\n",
    "from numpy import loadtxt\n",
    "import tensorflow as tf\n",
    "from sklearn.model_selection import train_test_split"
   ]
  },
  {
   "cell_type": "code",
   "execution_count": null,
   "id": "e01c0874",
   "metadata": {},
   "outputs": [],
   "source": [
    "p_scores = pd.read_csv('merfish_M1S1_filtered_periph_scores.csv')\n",
    "p_scores = p_scores.loc[p_scores['annotation'] != 'unannotated']"
   ]
  },
  {
   "cell_type": "code",
   "execution_count": null,
   "id": "e6e7c9aa",
   "metadata": {},
   "outputs": [],
   "source": [
    "# intensize computation: results stored in periphery_data.npy\n",
    "num_unique_cells = (p_scores['cell_id']).unique().shape[0]\n",
    "num_genes = (p_scores['gene']).unique().shape[0]\n",
    "print(\"There are\", num_genes, \"genes\")\n",
    "print(\"There are\", num_unique_cells, \"unique cells\")\n",
    "\n",
    "annotation_indices = {k: v for v, k in enumerate(list(p_scores['annotation'].unique()))}\n",
    "cell_indices = {k: v for v, k in enumerate(list(p_scores['cell_id'].unique()))}\n",
    "gene_indices = {k: v for v, k in enumerate(list(p_scores['gene'].unique()))}"
   ]
  },
  {
   "cell_type": "code",
   "execution_count": null,
   "id": "c2e8c747",
   "metadata": {},
   "outputs": [],
   "source": [
    "# intensize computation: results stored in periphery_labels.npy\n",
    "# x data shape(num_unique_cells, gene_periphery_scores)\n",
    "data = np.zeros((num_unique_cells, num_genes))\n",
    "for cell in cell_indices:\n",
    "    subset = p_scores.loc[p_scores['cell_id'] == cell]\n",
    "    for index, s in subset.iterrows():\n",
    "        cell_index = cell_indices[cell]\n",
    "        gene_index = gene_indices[s['gene']]\n",
    "        data[cell_index][gene_index] = s['periphery_score']"
   ]
  },
  {
   "cell_type": "code",
   "execution_count": null,
   "id": "acd1de5d",
   "metadata": {},
   "outputs": [],
   "source": [
    "np.save('periphery_data', data)\n",
    "np.save('periphery_labels', labels)"
   ]
  },
  {
   "cell_type": "code",
   "execution_count": null,
   "id": "b377e21c",
   "metadata": {},
   "outputs": [],
   "source": [
    "# y data \n",
    "labels = np.zeros((num_unique_cells, len(annotation_indices)))\n",
    "for cell in cell_indices:\n",
    "    ann = list(p_scores.loc[p_scores['cell_id'] == cell]['annotation'])[0]\n",
    "    arr_index = annotation_indices[ann]\n",
    "    labels[cell_indices[cell]][arr_index] = 1"
   ]
  },
  {
   "cell_type": "code",
   "execution_count": null,
   "id": "79863b40",
   "metadata": {},
   "outputs": [],
   "source": [
    "data = np.load('periphery_data.npy')\n",
    "labels = np.load('labels.npy')\n",
    "print(data.shape)\n",
    "print(labels.shape)"
   ]
  },
  {
   "cell_type": "code",
   "execution_count": null,
   "id": "defc0997",
   "metadata": {},
   "outputs": [],
   "source": [
    "# cv = np.std(data, axis=0) / np.mean(data, axis=0)\n",
    "# data = data[:,np.logical_and(cv >= np.percentile(cv, 1), cv <= np.percentile(cv, 99))]"
   ]
  },
  {
   "cell_type": "code",
   "execution_count": null,
   "id": "5602dff9",
   "metadata": {},
   "outputs": [],
   "source": [
    "expr = np.sum(np.square(data), axis=1)\n",
    "d = data[np.logical_and(expr >= np.percentile(expr, 1), expr <= np.percentile(expr, 99)),]\n",
    "# l = labels[np.logical_and(expr >= np.percentile(expr, 1), expr <= np.percentile(expr, 99)),]\n",
    "cv = np.std(total_set, axis=1) / np.mean(total_set, axis=1)\n",
    "# total_set = total_set[np.logical_and(cv >= np.percentile(cv, 1), cv <= np.percentile(cv, 99)),]\n",
    "# total_labels = total_labels[np.logical_and(cv >= np.percentile(cv, 1), cv <= np.percentile(cv, 99)),]"
   ]
  },
  {
   "cell_type": "code",
   "execution_count": null,
   "id": "3d74a581",
   "metadata": {},
   "outputs": [],
   "source": [
    "d.shape"
   ]
  },
  {
   "cell_type": "code",
   "execution_count": null,
   "id": "f3bc1b3a",
   "metadata": {},
   "outputs": [],
   "source": [
    "l.shape"
   ]
  },
  {
   "cell_type": "code",
   "execution_count": null,
   "id": "bedc7cea",
   "metadata": {},
   "outputs": [],
   "source": [
    "# split data into train, val and test datasets\n",
    "train, test, train_y, test_y = train_test_split(d, l, test_size=0.3)\n",
    "test, val, test_y, val_y = train_test_split(test, test_y, test_size=0.5)\n",
    "print(train.shape, train_y.shape)\n",
    "print(val.shape, val_y.shape)\n",
    "print(test.shape, test_y.shape)"
   ]
  },
  {
   "cell_type": "code",
   "execution_count": null,
   "id": "660fa4b2",
   "metadata": {},
   "outputs": [],
   "source": [
    "model = tf.keras.models.Sequential([tf.keras.layers.Input(192),\n",
    "                                    tf.keras.layers.Dense(100, activation=tf.nn.relu), \n",
    "                                    tf.keras.layers.Dense(50, activation=tf.nn.relu), \n",
    "                                    tf.keras.layers.Dense(25, activation=tf.nn.relu), \n",
    "                                    tf.keras.layers.Dense(80, activation=tf.nn.softmax)])\n",
    "lr= tf.keras.optimizers.schedules.ExponentialDecay(\n",
    "    0.001,\n",
    "    decay_steps=100000,\n",
    "    decay_rate=0.95,\n",
    "    staircase=True)\n",
    "model.compile(loss='categorical_crossentropy',optimizer=tf.optimizers.Adam(learning_rate=lr), metrics=['accuracy'])\n",
    "model.summary()\n",
    "model.fit(train, train_y, epochs=300, validation_data=(val, val_y))"
   ]
  },
  {
   "cell_type": "code",
   "execution_count": null,
   "id": "aed67373",
   "metadata": {},
   "outputs": [],
   "source": [
    "model.evaluate(test, test_y)"
   ]
  },
  {
   "cell_type": "code",
   "execution_count": null,
   "id": "6e089127",
   "metadata": {},
   "outputs": [],
   "source": [
    "y_pred.shape"
   ]
  },
  {
   "cell_type": "code",
   "execution_count": null,
   "id": "eb717a2c",
   "metadata": {},
   "outputs": [],
   "source": [
    "np.where(y_pred"
   ]
  },
  {
   "cell_type": "code",
   "execution_count": null,
   "id": "c61b6a97",
   "metadata": {},
   "outputs": [],
   "source": [
    "print(test_y.shape)\n",
    "print(y_pred.shape)\n",
    "y_pred=np.argmax(y_pred, axis=1)\n",
    "y_test=np.argmax(test_y, axis=1)"
   ]
  },
  {
   "cell_type": "code",
   "execution_count": null,
   "id": "0b373802",
   "metadata": {},
   "outputs": [],
   "source": [
    "from sklearn.metrics import balanced_accuracy_score\n",
    "balanced_accuracy_score(y_test, y_pred)"
   ]
  }
 ],
 "metadata": {
  "kernelspec": {
   "display_name": "Python 3",
   "language": "python",
   "name": "python3"
  },
  "language_info": {
   "codemirror_mode": {
    "name": "ipython",
    "version": 3
   },
   "file_extension": ".py",
   "mimetype": "text/x-python",
   "name": "python",
   "nbconvert_exporter": "python",
   "pygments_lexer": "ipython3",
   "version": "3.7.10"
  }
 },
 "nbformat": 4,
 "nbformat_minor": 5
}
