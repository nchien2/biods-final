{
 "cells": [
  {
   "cell_type": "code",
   "execution_count": 1,
   "id": "cheap-price",
   "metadata": {},
   "outputs": [],
   "source": [
    "import pandas as pd\n",
    "import numpy as np\n",
    "import matplotlib.pyplot as plt\n",
    "import h5py\n",
    "from collections import Counter\n",
    "import tensorflow as tf\n",
    "import keras"
   ]
  },
  {
   "cell_type": "code",
   "execution_count": 2,
   "id": "simple-resistance",
   "metadata": {},
   "outputs": [],
   "source": [
    "f = h5py.File('mouse1sample1.hdf5','r')\n"
   ]
  },
  {
   "cell_type": "code",
   "execution_count": 3,
   "id": "biological-batman",
   "metadata": {},
   "outputs": [],
   "source": [
    "annotated_cells = []\n",
    "annotations = []\n",
    "for cell_id in f['cells']:\n",
    "    cell = f['cells'][cell_id]\n",
    "    ann = dict(cell.attrs)['annotation']\n",
    "    if ann != 'unannotated':\n",
    "        annotated_cells.append(cell_id)\n",
    "        annotations.append(ann)\n",
    "annotations_count = Counter(annotations)"
   ]
  },
  {
   "cell_type": "code",
   "execution_count": 4,
   "id": "national-column",
   "metadata": {},
   "outputs": [
    {
     "name": "stdout",
     "output_type": "stream",
     "text": [
      "Number of Annotated Samples: 18453\n",
      "Num of Cell Types: 93\n",
      "Max Number of Samples per Cell Type: 2136\n",
      "Min Number of Samples per Cell Type: 1\n",
      "Average Number of Samples per Cell Type: 198.41935483870967\n"
     ]
    },
    {
     "data": {
      "text/plain": [
       "<BarContainer object of 93 artists>"
      ]
     },
     "execution_count": 4,
     "metadata": {},
     "output_type": "execute_result"
    },
    {
     "data": {
      "image/png": "[encoded data removed]",
      "text/plain": [
       "<Figure size 432x288 with 1 Axes>"
      ]
     },
     "metadata": {
      "needs_background": "light"
     },
     "output_type": "display_data"
    }
   ],
   "source": [
    "print(\"Number of Annotated Samples:\", len(annotated_cells))\n",
    "print(\"Num of Cell Types:\", len(annotations_count))\n",
    "print(\"Max Number of Samples per Cell Type:\", max(annotations_count.values()))\n",
    "print(\"Min Number of Samples per Cell Type:\", min(annotations_count.values()))\n",
    "print(\"Average Number of Samples per Cell Type:\", sum(annotations_count.values())/93)\n",
    "\n",
    "#graph of num of samples across cell-types \n",
    "plt.bar(np.arange(0,93), annotations_count.values())"
   ]
  },
  {
   "cell_type": "code",
   "execution_count": 5,
   "id": "continued-firewall",
   "metadata": {},
   "outputs": [],
   "source": [
    "# creating one-hot coded vectors for cell-type (labels for multi)\n",
    "annotation_indices = {k: v for v, k in enumerate(list(annotations_count.keys()))}\n",
    "labels = np.zeros((len(annotated_cells), len(annotation_indices)))\n",
    "for index in range(0, len(annotated_cells)):\n",
    "    cell = f['cells'][annotated_cells[index]]\n",
    "    ann = dict(cell.attrs)['annotation']\n",
    "    arr_index = annotation_indices[ann]\n",
    "    labels[index][arr_index] = 1"
   ]
  },
  {
   "cell_type": "code",
   "execution_count": 6,
   "id": "occasional-element",
   "metadata": {},
   "outputs": [],
   "source": [
    "# data = np.zeros(shape=(len(annotated_cells), 288, 432)).astype('uint8')\n",
    "\n",
    "# fig = plt.figure()\n",
    "# plt.gray()\n",
    "# idx = 0\n",
    "# for cell_id in annotated_cells:\n",
    "#     cell = f['cells'][cell_id]\n",
    "#     keys = list(cell['boundaries'].keys())\n",
    "#     midpoint = keys[int(len(keys)/2)]\n",
    "#     boundary = cell['boundaries'][midpoint]\n",
    "#     xs = boundary[:,0]\n",
    "#     ys = boundary[:,1]\n",
    "#     plt.plot(xs,ys)\n",
    "#     plt.axis('equal')\n",
    "#     plt.xticks([])\n",
    "#     plt.yticks([])\n",
    "#     fig.canvas.draw()\n",
    "#     fig_array = np.frombuffer(fig.canvas.tostring_rgb(), dtype=np.uint8)\n",
    "#     fig_array = fig_array.reshape(fig.canvas.get_width_height()[::-1] + (3,))\n",
    "#     data[idx] = fig_array[:,:,0].astype('uint8')\n",
    "#     idx += 1\n",
    "#     plt.clf()\n",
    "#     print(f\"\\r{idx}\", end=\"\")\n",
    "\n",
    "# np.save('boundary_arrays', data)"
   ]
  },
  {
   "cell_type": "code",
   "execution_count": 7,
   "id": "e5741609",
   "metadata": {},
   "outputs": [],
   "source": [
    "data = np.load('boundary_arrays.npy')\n",
    "data = np.repeat(data[..., np.newaxis], 3, -1)\n"
   ]
  },
  {
   "cell_type": "code",
   "execution_count": 8,
   "id": "electrical-costs",
   "metadata": {},
   "outputs": [
    {
     "name": "stdout",
     "output_type": "stream",
     "text": [
      "(12917, 288, 432, 3) (12917, 93)\n",
      "(2768, 288, 432, 3) (2768, 93)\n",
      "(2768, 288, 432, 3) (2768, 93)\n"
     ]
    }
   ],
   "source": [
    "from sklearn.model_selection import train_test_split\n",
    "train, test, train_y, test_y = train_test_split(data, labels, test_size=0.3)\n",
    "\n",
    "test, val, test_y, val_y = train_test_split(test, test_y, test_size=0.5)\n",
    "print(train.shape, train_y.shape)\n",
    "print(val.shape, val_y.shape)\n",
    "print(test.shape, test_y.shape)"
   ]
  },
  {
   "cell_type": "code",
   "execution_count": 25,
   "id": "quiet-reliance",
   "metadata": {
    "scrolled": false
   },
   "outputs": [],
   "source": [
    "base_model = tf.keras.applications.resnet50.ResNet50(\n",
    "    include_top=False, weights='imagenet', input_tensor=None,\n",
    "    input_shape=(288,432, 3), pooling=None, classes=93\n",
    ")\n",
    "\n",
    "base_model.trainable=False\n",
    "\n"
   ]
  },
  {
   "cell_type": "code",
   "execution_count": 26,
   "id": "8d923ebe",
   "metadata": {},
   "outputs": [],
   "source": [
    "class CustomDataGen(tf.keras.utils.Sequence):\n",
    "    \n",
    "    def __init__(self, train, y,\n",
    "                 batch_size=16,\n",
    "                 input_size=(288, 432, 3),\n",
    "                 shuffle=True):\n",
    "        \n",
    "        self.train = train\n",
    "        self.y = y\n",
    "        self.batch_size = batch_size\n",
    "        self.input_size = input_size\n",
    "        self.shuffle = shuffle\n",
    "        \n",
    "        self.n = len(train)\n",
    "    \n",
    "    \n",
    "    def on_epoch_end(self):\n",
    "        pass\n",
    "    \n",
    "    def __getitem__(self, index):\n",
    "        x_batch = self.train[index * self.batch_size:(index + 1) * self.batch_size]\n",
    "        y_batch = self.y[index * self.batch_size:(index + 1) * self.batch_size]\n",
    "        return x_batch, y_batch\n",
    "    \n",
    "    def __len__(self):\n",
    "        return self.n // self.batch_size"
   ]
  },
  {
   "cell_type": "code",
   "execution_count": 27,
   "id": "3f3b787f",
   "metadata": {},
   "outputs": [],
   "source": [
    "train_gen = CustomDataGen(train, train_y)\n",
    "val_gen = CustomDataGen(val, val_y)"
   ]
  },
  {
   "cell_type": "code",
   "execution_count": 28,
   "id": "be0710d1",
   "metadata": {},
   "outputs": [],
   "source": [
    "inputs = keras.Input(shape=(288, 432, 3))\n",
    "# We make sure that the base_model is running in inference mode here,\n",
    "# by passing `training=False`. This is important for fine-tuning, as you will\n",
    "# learn in a few paragraphs.\n",
    "x = base_model(inputs, training=False)\n",
    "# Convert features of shape `base_model.output_shape[1:]` to vectors\n",
    "x = keras.layers.GlobalAveragePooling2D()(x)\n",
    "# A Dense classifier with a single unit (binary classification)\n",
    "outputs = keras.layers.Dense(93)(x)\n",
    "model = keras.Model(inputs, outputs)"
   ]
  },
  {
   "cell_type": "code",
   "execution_count": null,
   "id": "1fa51f48",
   "metadata": {},
   "outputs": [
    {
     "name": "stdout",
     "output_type": "stream",
     "text": [
      "Epoch 1/10\n",
      "807/807 [==============================] - ETA: 0s - loss: 8.1953 - accuracy: 0.0042"
     ]
    }
   ],
   "source": [
    "lr= tf.keras.optimizers.schedules.ExponentialDecay(\n",
    "    0.0001,\n",
    "    decay_steps=100000,\n",
    "    decay_rate=0.95,\n",
    "    staircase=True)\n",
    "\n",
    "model.compile(optimizer=tf.optimizers.Adam(learning_rate=lr),\n",
    "              loss='categorical_crossentropy',\n",
    "              metrics=['accuracy'])\n",
    "\n",
    "\n",
    "# model.fit(train, train_y, batch_size=1, epochs=20, validation_data=(val, val_y))\n",
    "history = model.fit(\n",
    "    train_gen, \n",
    "    epochs=10,\n",
    "    validation_data=val_gen\n",
    ")"
   ]
  },
  {
   "cell_type": "code",
   "execution_count": 19,
   "id": "7480eb92",
   "metadata": {},
   "outputs": [
    {
     "name": "stderr",
     "output_type": "stream",
     "text": [
      "2021-11-05 22:37:35.007694: W tensorflow/core/framework/cpu_allocator_impl.cc:80] Allocation of 1033150464 exceeds 10% of free system memory.\n",
      "2021-11-05 22:37:36.278561: W tensorflow/core/framework/cpu_allocator_impl.cc:80] Allocation of 1033150464 exceeds 10% of free system memory.\n"
     ]
    },
    {
     "name": "stdout",
     "output_type": "stream",
     "text": [
      "87/87 [==============================] - 49s 513ms/step - loss: 7.6353 - accuracy: 0.1113\n"
     ]
    },
    {
     "data": {
      "text/plain": [
       "[7.635293483734131, 0.1112716794013977]"
      ]
     },
     "execution_count": 19,
     "metadata": {},
     "output_type": "execute_result"
    }
   ],
   "source": [
    "model.evaluate(test, test_y)"
   ]
  }
 ],
 "metadata": {
  "kernelspec": {
   "display_name": "Python 3",
   "language": "python",
   "name": "python3"
  },
  "language_info": {
   "codemirror_mode": {
    "name": "ipython",
    "version": 3
   },
   "file_extension": ".py",
   "mimetype": "text/x-python",
   "name": "python",
   "nbconvert_exporter": "python",
   "pygments_lexer": "ipython3",
   "version": "3.7.10"
  }
 },
 "nbformat": 4,
 "nbformat_minor": 5
}
