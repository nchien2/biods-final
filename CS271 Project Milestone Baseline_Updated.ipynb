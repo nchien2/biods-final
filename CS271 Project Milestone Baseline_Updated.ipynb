{
 "cells": [
  {
   "cell_type": "code",
   "execution_count": 1,
   "id": "d65e5919",
   "metadata": {},
   "outputs": [],
   "source": [
    "import pandas as pd\n",
    "import numpy as np\n",
    "import matplotlib.pyplot as plt\n",
    "import h5py\n",
    "from collections import Counter\n",
    "import numpy as np\n",
    "from numpy import loadtxt\n",
    "import tensorflow as tf\n",
    "\n",
    "f = h5py.File('mouse1sample1.hdf5','r')"
   ]
  },
  {
   "cell_type": "code",
   "execution_count": 2,
   "id": "2763e867",
   "metadata": {},
   "outputs": [],
   "source": [
    "annotated_cells = []\n",
    "annotations = []\n",
    "for cell_id in f['cells']:\n",
    "    cell = f['cells'][cell_id]\n",
    "    ann = dict(cell.attrs)['annotation']\n",
    "    if ann != 'unannotated':\n",
    "        annotated_cells.append(cell_id)\n",
    "        annotations.append(ann)"
   ]
  },
  {
   "cell_type": "code",
   "execution_count": 3,
   "id": "0e4afbee",
   "metadata": {},
   "outputs": [
    {
     "name": "stdout",
     "output_type": "stream",
     "text": [
      "Number of Annotated Samples: 18453\n",
      "Num of Cell Types: 93\n",
      "Max Number of Samples per Cell Type: 2136\n",
      "Min Number of Samples per Cell Type: 1\n",
      "Average Number of Samples per Cell Type: 198.41935483870967\n"
     ]
    },
    {
     "data": {
      "text/plain": [
       "<BarContainer object of 93 artists>"
      ]
     },
     "execution_count": 3,
     "metadata": {},
     "output_type": "execute_result"
    },
    {
     "data": {
      "image/png": "[encoded data removed]",
      "text/plain": [
       "<Figure size 432x288 with 1 Axes>"
      ]
     },
     "metadata": {
      "needs_background": "light"
     },
     "output_type": "display_data"
    }
   ],
   "source": [
    "annotations_count = Counter(annotations)\n",
    "print(\"Number of Annotated Samples:\", len(annotated_cells))\n",
    "print(\"Num of Cell Types:\", len(annotations_count))\n",
    "print(\"Max Number of Samples per Cell Type:\", max(annotations_count.values()))\n",
    "print(\"Min Number of Samples per Cell Type:\", min(annotations_count.values()))\n",
    "print(\"Average Number of Samples per Cell Type:\", sum(annotations_count.values())/93)\n",
    "\n",
    "#graph of num of samples across cell-types \n",
    "plt.bar(np.arange(0,93), annotations_count.values())"
   ]
  },
  {
   "cell_type": "code",
   "execution_count": 4,
   "id": "283db583",
   "metadata": {},
   "outputs": [],
   "source": [
    "# # creating gene expression table -- time intensive computation\n",
    "# df = pd.DataFrame()\n",
    "# for cell_id in annotated_cells:\n",
    "#     cell = f['cells'][cell_id]\n",
    "#     gene_counts = []\n",
    "#     for z in cell.attrs['zslices']: # for each z-slice corresponding to cell\n",
    "#         spot_genes = cell['spot_genes'][z] # get spot_genes\n",
    "#         for gene in spot_genes: # iterate over spot_genes \n",
    "#             gene_counts.append(gene.decode())\n",
    "#     gene_counts = dict(Counter(gene_counts)) # get count of all genes for cell\n",
    "#     df = df.append(gene_counts, ignore_index=True) # add row to pd dataframe\n",
    "# df = df.fillna(0)\n",
    "# df.to_csv('geneExpression.csv', sep='\\t') "
   ]
  },
  {
   "cell_type": "code",
   "execution_count": 5,
   "id": "81f2484b",
   "metadata": {},
   "outputs": [],
   "source": [
    "# creating one-hot coded vectors for cell-type (labels for multi)\n",
    "annotation_indices = {k: v for v, k in enumerate(list(annotations_count.keys()))}\n",
    "labels = np.zeros((len(annotated_cells), len(annotation_indices)))\n",
    "for index in range(0, len(annotated_cells)):\n",
    "    cell = f['cells'][annotated_cells[index]]\n",
    "    ann = dict(cell.attrs)['annotation']\n",
    "    arr_index = annotation_indices[ann]\n",
    "    labels[index][arr_index] = 1"
   ]
  },
  {
   "cell_type": "code",
   "execution_count": 6,
   "id": "a628cf98",
   "metadata": {},
   "outputs": [
    {
     "name": "stdout",
     "output_type": "stream",
     "text": [
      "(18453, 252)\n"
     ]
    }
   ],
   "source": [
    "dataset = loadtxt('geneExpression.csv', delimiter=',')\n",
    "print(dataset.shape)"
   ]
  },
  {
   "cell_type": "code",
   "execution_count": 7,
   "id": "b2cee81a",
   "metadata": {},
   "outputs": [],
   "source": [
    "# normalize + scale gene expression data + remove outliers (code from ACTINN paper)\n",
    "total_set = np.divide(dataset, np.sum(dataset, axis=0, keepdims=True)) * 10000\n",
    "total_set = np.log2(total_set+1)\n",
    "expr = np.sum(total_set, axis=1)\n",
    "total_set = total_set[np.logical_and(expr >= np.percentile(expr, 1), expr <= np.percentile(expr, 99)),]\n",
    "total_labels = labels[np.logical_and(expr >= np.percentile(expr, 1), expr <= np.percentile(expr, 99)),]\n",
    "cv = np.std(total_set, axis=1) / np.mean(total_set, axis=1)\n",
    "total_set = total_set[np.logical_and(cv >= np.percentile(cv, 1), cv <= np.percentile(cv, 99)),]\n",
    "total_labels = total_labels[np.logical_and(cv >= np.percentile(cv, 1), cv <= np.percentile(cv, 99)),]\n",
    "\n",
    "dataset=total_set"
   ]
  },
  {
   "cell_type": "code",
   "execution_count": 8,
   "id": "lyric-newport",
   "metadata": {},
   "outputs": [
    {
     "name": "stdout",
     "output_type": "stream",
     "text": [
      "(12404, 252) (12404, 93)\n",
      "(2659, 252) (2659, 93)\n",
      "(2658, 252) (2658, 93)\n"
     ]
    }
   ],
   "source": [
    "from sklearn.model_selection import train_test_split\n",
    "train, test, train_y, test_y = train_test_split(dataset, total_labels, test_size=0.3)\n",
    "\n",
    "test, val, test_y, val_y = train_test_split(test, test_y, test_size=0.5)\n",
    "print(train.shape, train_y.shape)\n",
    "print(val.shape, val_y.shape)\n",
    "print(test.shape, test_y.shape)"
   ]
  },
  {
   "cell_type": "code",
   "execution_count": 9,
   "id": "39653b97",
   "metadata": {},
   "outputs": [
    {
     "name": "stderr",
     "output_type": "stream",
     "text": [
      "2021-11-05 23:22:41.174593: I tensorflow/stream_executor/cuda/cuda_gpu_executor.cc:937] successful NUMA node read from SysFS had negative value (-1), but there must be at least one NUMA node, so returning NUMA node zero\n",
      "2021-11-05 23:22:41.190096: I tensorflow/stream_executor/cuda/cuda_gpu_executor.cc:937] successful NUMA node read from SysFS had negative value (-1), but there must be at least one NUMA node, so returning NUMA node zero\n",
      "2021-11-05 23:22:41.190490: I tensorflow/stream_executor/cuda/cuda_gpu_executor.cc:937] successful NUMA node read from SysFS had negative value (-1), but there must be at least one NUMA node, so returning NUMA node zero\n",
      "2021-11-05 23:22:41.191419: I tensorflow/core/platform/cpu_feature_guard.cc:142] This TensorFlow binary is optimized with oneAPI Deep Neural Network Library (oneDNN) to use the following CPU instructions in performance-critical operations:  AVX2 FMA\n",
      "To enable them in other operations, rebuild TensorFlow with the appropriate compiler flags.\n",
      "2021-11-05 23:22:41.192132: I tensorflow/stream_executor/cuda/cuda_gpu_executor.cc:937] successful NUMA node read from SysFS had negative value (-1), but there must be at least one NUMA node, so returning NUMA node zero\n",
      "2021-11-05 23:22:41.192524: I tensorflow/stream_executor/cuda/cuda_gpu_executor.cc:937] successful NUMA node read from SysFS had negative value (-1), but there must be at least one NUMA node, so returning NUMA node zero\n",
      "2021-11-05 23:22:41.192904: I tensorflow/stream_executor/cuda/cuda_gpu_executor.cc:937] successful NUMA node read from SysFS had negative value (-1), but there must be at least one NUMA node, so returning NUMA node zero\n",
      "2021-11-05 23:22:41.663730: I tensorflow/stream_executor/cuda/cuda_gpu_executor.cc:937] successful NUMA node read from SysFS had negative value (-1), but there must be at least one NUMA node, so returning NUMA node zero\n",
      "2021-11-05 23:22:41.664189: I tensorflow/stream_executor/cuda/cuda_gpu_executor.cc:937] successful NUMA node read from SysFS had negative value (-1), but there must be at least one NUMA node, so returning NUMA node zero\n",
      "2021-11-05 23:22:41.664536: I tensorflow/stream_executor/cuda/cuda_gpu_executor.cc:937] successful NUMA node read from SysFS had negative value (-1), but there must be at least one NUMA node, so returning NUMA node zero\n",
      "2021-11-05 23:22:41.664827: I tensorflow/core/common_runtime/gpu/gpu_device.cc:1510] Created device /job:localhost/replica:0/task:0/device:GPU:0 with 109 MB memory:  -> device: 0, name: Tesla K80, pci bus id: 0000:00:04.0, compute capability: 3.7\n",
      "2021-11-05 23:22:41.791574: I tensorflow/compiler/mlir/mlir_graph_optimization_pass.cc:185] None of the MLIR Optimization Passes are enabled (registered 2)\n"
     ]
    },
    {
     "name": "stdout",
     "output_type": "stream",
     "text": [
      "Model: \"sequential\"\n",
      "_________________________________________________________________\n",
      "Layer (type)                 Output Shape              Param #   \n",
      "=================================================================\n",
      "dense (Dense)                (None, 100)               25300     \n",
      "_________________________________________________________________\n",
      "dense_1 (Dense)              (None, 50)                5050      \n",
      "_________________________________________________________________\n",
      "dense_2 (Dense)              (None, 25)                1275      \n",
      "_________________________________________________________________\n",
      "dense_3 (Dense)              (None, 93)                2418      \n",
      "=================================================================\n",
      "Total params: 34,043\n",
      "Trainable params: 34,043\n",
      "Non-trainable params: 0\n",
      "_________________________________________________________________\n",
      "Epoch 1/50\n",
      "97/97 [==============================] - 1s 6ms/step - loss: 4.5007 - accuracy: 0.0242 - val_loss: 4.3599 - val_accuracy: 0.0470\n",
      "Epoch 2/50\n",
      "97/97 [==============================] - 0s 4ms/step - loss: 4.1619 - accuracy: 0.1250 - val_loss: 3.8918 - val_accuracy: 0.2080\n",
      "Epoch 3/50\n",
      "97/97 [==============================] - 0s 4ms/step - loss: 3.5391 - accuracy: 0.3040 - val_loss: 3.1696 - val_accuracy: 0.3960\n",
      "Epoch 4/50\n",
      "97/97 [==============================] - 0s 4ms/step - loss: 2.8508 - accuracy: 0.4669 - val_loss: 2.5828 - val_accuracy: 0.5261\n",
      "Epoch 5/50\n",
      "97/97 [==============================] - 0s 4ms/step - loss: 2.3446 - accuracy: 0.5788 - val_loss: 2.1857 - val_accuracy: 0.6044\n",
      "Epoch 6/50\n",
      "97/97 [==============================] - 0s 4ms/step - loss: 1.9946 - accuracy: 0.6358 - val_loss: 1.9070 - val_accuracy: 0.6476\n",
      "Epoch 7/50\n",
      "97/97 [==============================] - 0s 4ms/step - loss: 1.7463 - accuracy: 0.6795 - val_loss: 1.7085 - val_accuracy: 0.6792\n",
      "Epoch 8/50\n",
      "97/97 [==============================] - 0s 4ms/step - loss: 1.5623 - accuracy: 0.7083 - val_loss: 1.5575 - val_accuracy: 0.7003\n",
      "Epoch 9/50\n",
      "97/97 [==============================] - 0s 4ms/step - loss: 1.4198 - accuracy: 0.7296 - val_loss: 1.4376 - val_accuracy: 0.7247\n",
      "Epoch 10/50\n",
      "97/97 [==============================] - 0s 4ms/step - loss: 1.3058 - accuracy: 0.7474 - val_loss: 1.3388 - val_accuracy: 0.7394\n",
      "Epoch 11/50\n",
      "97/97 [==============================] - 0s 4ms/step - loss: 1.2129 - accuracy: 0.7619 - val_loss: 1.2606 - val_accuracy: 0.7552\n",
      "Epoch 12/50\n",
      "97/97 [==============================] - 0s 4ms/step - loss: 1.1356 - accuracy: 0.7735 - val_loss: 1.1922 - val_accuracy: 0.7642\n",
      "Epoch 13/50\n",
      "97/97 [==============================] - 0s 4ms/step - loss: 1.0686 - accuracy: 0.7825 - val_loss: 1.1318 - val_accuracy: 0.7672\n",
      "Epoch 14/50\n",
      "97/97 [==============================] - 0s 4ms/step - loss: 1.0114 - accuracy: 0.7915 - val_loss: 1.0815 - val_accuracy: 0.7759\n",
      "Epoch 15/50\n",
      "97/97 [==============================] - 0s 4ms/step - loss: 0.9614 - accuracy: 0.7993 - val_loss: 1.0385 - val_accuracy: 0.7856\n",
      "Epoch 16/50\n",
      "97/97 [==============================] - 0s 4ms/step - loss: 0.9170 - accuracy: 0.8035 - val_loss: 0.9970 - val_accuracy: 0.7886\n",
      "Epoch 17/50\n",
      "97/97 [==============================] - 0s 4ms/step - loss: 0.8769 - accuracy: 0.8076 - val_loss: 0.9582 - val_accuracy: 0.7935\n",
      "Epoch 18/50\n",
      "97/97 [==============================] - 0s 4ms/step - loss: 0.8399 - accuracy: 0.8112 - val_loss: 0.9260 - val_accuracy: 0.7950\n",
      "Epoch 19/50\n",
      "97/97 [==============================] - 0s 4ms/step - loss: 0.8062 - accuracy: 0.8134 - val_loss: 0.8988 - val_accuracy: 0.7977\n",
      "Epoch 20/50\n",
      "97/97 [==============================] - 0s 4ms/step - loss: 0.7761 - accuracy: 0.8168 - val_loss: 0.8718 - val_accuracy: 0.8007\n",
      "Epoch 21/50\n",
      "97/97 [==============================] - 0s 4ms/step - loss: 0.7476 - accuracy: 0.8215 - val_loss: 0.8533 - val_accuracy: 0.8044\n",
      "Epoch 22/50\n",
      "97/97 [==============================] - 0s 4ms/step - loss: 0.7223 - accuracy: 0.8241 - val_loss: 0.8254 - val_accuracy: 0.8086\n",
      "Epoch 23/50\n",
      "97/97 [==============================] - 0s 4ms/step - loss: 0.6990 - accuracy: 0.8292 - val_loss: 0.8058 - val_accuracy: 0.8112\n",
      "Epoch 24/50\n",
      "97/97 [==============================] - 0s 4ms/step - loss: 0.6778 - accuracy: 0.8314 - val_loss: 0.7906 - val_accuracy: 0.8135\n",
      "Epoch 25/50\n",
      "97/97 [==============================] - 0s 4ms/step - loss: 0.6586 - accuracy: 0.8341 - val_loss: 0.7728 - val_accuracy: 0.8150\n",
      "Epoch 26/50\n",
      "97/97 [==============================] - 0s 4ms/step - loss: 0.6408 - accuracy: 0.8384 - val_loss: 0.7564 - val_accuracy: 0.8206\n",
      "Epoch 27/50\n",
      "97/97 [==============================] - 0s 4ms/step - loss: 0.6230 - accuracy: 0.8406 - val_loss: 0.7486 - val_accuracy: 0.8168\n",
      "Epoch 28/50\n",
      "97/97 [==============================] - 0s 4ms/step - loss: 0.6071 - accuracy: 0.8446 - val_loss: 0.7316 - val_accuracy: 0.8214\n",
      "Epoch 29/50\n",
      "97/97 [==============================] - 0s 4ms/step - loss: 0.5935 - accuracy: 0.8472 - val_loss: 0.7189 - val_accuracy: 0.8259\n",
      "Epoch 30/50\n",
      "97/97 [==============================] - 0s 4ms/step - loss: 0.5790 - accuracy: 0.8498 - val_loss: 0.7059 - val_accuracy: 0.8270\n",
      "Epoch 31/50\n",
      "97/97 [==============================] - 0s 4ms/step - loss: 0.5654 - accuracy: 0.8515 - val_loss: 0.7022 - val_accuracy: 0.8244\n",
      "Epoch 32/50\n",
      "97/97 [==============================] - 0s 4ms/step - loss: 0.5528 - accuracy: 0.8545 - val_loss: 0.6871 - val_accuracy: 0.8296\n",
      "Epoch 33/50\n",
      "97/97 [==============================] - 0s 4ms/step - loss: 0.5415 - accuracy: 0.8586 - val_loss: 0.6816 - val_accuracy: 0.8300\n",
      "Epoch 34/50\n",
      "97/97 [==============================] - 0s 4ms/step - loss: 0.5293 - accuracy: 0.8598 - val_loss: 0.6728 - val_accuracy: 0.8311\n",
      "Epoch 35/50\n",
      "97/97 [==============================] - 0s 4ms/step - loss: 0.5187 - accuracy: 0.8629 - val_loss: 0.6644 - val_accuracy: 0.8319\n",
      "Epoch 36/50\n",
      "97/97 [==============================] - 0s 4ms/step - loss: 0.5090 - accuracy: 0.8643 - val_loss: 0.6601 - val_accuracy: 0.8308\n",
      "Epoch 37/50\n",
      "97/97 [==============================] - 0s 4ms/step - loss: 0.4991 - accuracy: 0.8663 - val_loss: 0.6508 - val_accuracy: 0.8323\n",
      "Epoch 38/50\n",
      "97/97 [==============================] - 0s 4ms/step - loss: 0.4894 - accuracy: 0.8688 - val_loss: 0.6448 - val_accuracy: 0.8330\n",
      "Epoch 39/50\n",
      "97/97 [==============================] - 1s 6ms/step - loss: 0.4801 - accuracy: 0.8715 - val_loss: 0.6380 - val_accuracy: 0.8349\n",
      "Epoch 40/50\n",
      "97/97 [==============================] - 0s 4ms/step - loss: 0.4714 - accuracy: 0.8717 - val_loss: 0.6311 - val_accuracy: 0.8341\n",
      "Epoch 41/50\n",
      "97/97 [==============================] - 0s 4ms/step - loss: 0.4638 - accuracy: 0.8725 - val_loss: 0.6263 - val_accuracy: 0.8349\n",
      "Epoch 42/50\n",
      "97/97 [==============================] - 0s 4ms/step - loss: 0.4556 - accuracy: 0.8749 - val_loss: 0.6253 - val_accuracy: 0.8357\n",
      "Epoch 43/50\n",
      "97/97 [==============================] - 0s 4ms/step - loss: 0.4479 - accuracy: 0.8764 - val_loss: 0.6183 - val_accuracy: 0.8364\n",
      "Epoch 44/50\n",
      "97/97 [==============================] - 0s 4ms/step - loss: 0.4404 - accuracy: 0.8763 - val_loss: 0.6087 - val_accuracy: 0.8413\n",
      "Epoch 45/50\n",
      "97/97 [==============================] - 0s 4ms/step - loss: 0.4333 - accuracy: 0.8795 - val_loss: 0.6075 - val_accuracy: 0.8420\n",
      "Epoch 46/50\n",
      "97/97 [==============================] - 0s 4ms/step - loss: 0.4265 - accuracy: 0.8827 - val_loss: 0.6024 - val_accuracy: 0.8375\n",
      "Epoch 47/50\n",
      "97/97 [==============================] - 0s 4ms/step - loss: 0.4199 - accuracy: 0.8833 - val_loss: 0.5988 - val_accuracy: 0.8409\n",
      "Epoch 48/50\n",
      "97/97 [==============================] - 0s 4ms/step - loss: 0.4132 - accuracy: 0.8838 - val_loss: 0.5959 - val_accuracy: 0.8436\n",
      "Epoch 49/50\n",
      "97/97 [==============================] - 0s 4ms/step - loss: 0.4066 - accuracy: 0.8854 - val_loss: 0.5930 - val_accuracy: 0.8413\n",
      "Epoch 50/50\n",
      "97/97 [==============================] - 0s 4ms/step - loss: 0.4010 - accuracy: 0.8866 - val_loss: 0.5884 - val_accuracy: 0.8394\n"
     ]
    },
    {
     "data": {
      "text/plain": [
       "<keras.callbacks.History at 0x7f124c803f10>"
      ]
     },
     "execution_count": 9,
     "metadata": {},
     "output_type": "execute_result"
    }
   ],
   "source": [
    "# followed model parameters + layers according to ACTINN paper \n",
    "model = tf.keras.models.Sequential([tf.keras.layers.Input(252),\n",
    "                                    tf.keras.layers.Dense(100, activation=tf.nn.relu), \n",
    "                                    tf.keras.layers.Dense(50, activation=tf.nn.relu), \n",
    "                                    tf.keras.layers.Dense(25, activation=tf.nn.relu), \n",
    "                                    tf.keras.layers.Dense(93, activation=tf.nn.softmax)])\n",
    "lr= tf.keras.optimizers.schedules.ExponentialDecay(\n",
    "    0.0001,\n",
    "    decay_steps=100000,\n",
    "    decay_rate=0.95,\n",
    "    staircase=True)\n",
    "model.compile(loss='categorical_crossentropy',optimizer=tf.optimizers.Adam(learning_rate=lr), metrics=['accuracy'])\n",
    "model.summary()\n",
    "model.fit(train, train_y, batch_size=128, epochs=50, validation_data=(val, val_y))"
   ]
  },
  {
   "cell_type": "code",
   "execution_count": 10,
   "id": "cd1e02a5",
   "metadata": {},
   "outputs": [
    {
     "name": "stdout",
     "output_type": "stream",
     "text": [
      "84/84 [==============================] - 0s 3ms/step - loss: 0.5496 - accuracy: 0.8382\n"
     ]
    },
    {
     "data": {
      "text/plain": [
       "[0.549612820148468, 0.8382242321968079]"
      ]
     },
     "execution_count": 10,
     "metadata": {},
     "output_type": "execute_result"
    }
   ],
   "source": [
    "model.evaluate(test, test_y)"
   ]
  },
  {
   "cell_type": "code",
   "execution_count": 11,
   "id": "20db102f",
   "metadata": {},
   "outputs": [],
   "source": [
    "y_pred = model.predict(test)\n",
    "y_pred=np.argmax(y_pred, axis=1)\n",
    "y_test=np.argmax(test_y, axis=1)"
   ]
  },
  {
   "cell_type": "code",
   "execution_count": 12,
   "id": "ae4d6205",
   "metadata": {},
   "outputs": [
    {
     "ename": "ValueError",
     "evalue": "Classification metrics can't handle a mix of multilabel-indicator and multiclass targets",
     "output_type": "error",
     "traceback": [
      "\u001b[0;31m---------------------------------------------------------------------------\u001b[0m",
      "\u001b[0;31mValueError\u001b[0m                                Traceback (most recent call last)",
      "\u001b[0;32m/tmp/ipykernel_1118/546019278.py\u001b[0m in \u001b[0;36m<module>\u001b[0;34m\u001b[0m\n\u001b[1;32m      1\u001b[0m \u001b[0;32mfrom\u001b[0m \u001b[0msklearn\u001b[0m\u001b[0;34m.\u001b[0m\u001b[0mmetrics\u001b[0m \u001b[0;32mimport\u001b[0m \u001b[0mbalanced_accuracy_score\u001b[0m\u001b[0;34m\u001b[0m\u001b[0;34m\u001b[0m\u001b[0m\n\u001b[0;32m----> 2\u001b[0;31m \u001b[0mbalanced_accuracy_score\u001b[0m\u001b[0;34m(\u001b[0m\u001b[0mtest_y\u001b[0m\u001b[0;34m,\u001b[0m \u001b[0my_pred\u001b[0m\u001b[0;34m)\u001b[0m\u001b[0;34m\u001b[0m\u001b[0;34m\u001b[0m\u001b[0m\n\u001b[0m",
      "\u001b[0;32m/opt/conda/lib/python3.7/site-packages/sklearn/utils/validation.py\u001b[0m in \u001b[0;36minner_f\u001b[0;34m(*args, **kwargs)\u001b[0m\n\u001b[1;32m     61\u001b[0m             \u001b[0mextra_args\u001b[0m \u001b[0;34m=\u001b[0m \u001b[0mlen\u001b[0m\u001b[0;34m(\u001b[0m\u001b[0margs\u001b[0m\u001b[0;34m)\u001b[0m \u001b[0;34m-\u001b[0m \u001b[0mlen\u001b[0m\u001b[0;34m(\u001b[0m\u001b[0mall_args\u001b[0m\u001b[0;34m)\u001b[0m\u001b[0;34m\u001b[0m\u001b[0;34m\u001b[0m\u001b[0m\n\u001b[1;32m     62\u001b[0m             \u001b[0;32mif\u001b[0m \u001b[0mextra_args\u001b[0m \u001b[0;34m<=\u001b[0m \u001b[0;36m0\u001b[0m\u001b[0;34m:\u001b[0m\u001b[0;34m\u001b[0m\u001b[0;34m\u001b[0m\u001b[0m\n\u001b[0;32m---> 63\u001b[0;31m                 \u001b[0;32mreturn\u001b[0m \u001b[0mf\u001b[0m\u001b[0;34m(\u001b[0m\u001b[0;34m*\u001b[0m\u001b[0margs\u001b[0m\u001b[0;34m,\u001b[0m \u001b[0;34m**\u001b[0m\u001b[0mkwargs\u001b[0m\u001b[0;34m)\u001b[0m\u001b[0;34m\u001b[0m\u001b[0;34m\u001b[0m\u001b[0m\n\u001b[0m\u001b[1;32m     64\u001b[0m \u001b[0;34m\u001b[0m\u001b[0m\n\u001b[1;32m     65\u001b[0m             \u001b[0;31m# extra_args > 0\u001b[0m\u001b[0;34m\u001b[0m\u001b[0;34m\u001b[0m\u001b[0;34m\u001b[0m\u001b[0m\n",
      "\u001b[0;32m/opt/conda/lib/python3.7/site-packages/sklearn/metrics/_classification.py\u001b[0m in \u001b[0;36mbalanced_accuracy_score\u001b[0;34m(y_true, y_pred, sample_weight, adjusted)\u001b[0m\n\u001b[1;32m   1848\u001b[0m \u001b[0;34m\u001b[0m\u001b[0m\n\u001b[1;32m   1849\u001b[0m     \"\"\"\n\u001b[0;32m-> 1850\u001b[0;31m     \u001b[0mC\u001b[0m \u001b[0;34m=\u001b[0m \u001b[0mconfusion_matrix\u001b[0m\u001b[0;34m(\u001b[0m\u001b[0my_true\u001b[0m\u001b[0;34m,\u001b[0m \u001b[0my_pred\u001b[0m\u001b[0;34m,\u001b[0m \u001b[0msample_weight\u001b[0m\u001b[0;34m=\u001b[0m\u001b[0msample_weight\u001b[0m\u001b[0;34m)\u001b[0m\u001b[0;34m\u001b[0m\u001b[0;34m\u001b[0m\u001b[0m\n\u001b[0m\u001b[1;32m   1851\u001b[0m     \u001b[0;32mwith\u001b[0m \u001b[0mnp\u001b[0m\u001b[0;34m.\u001b[0m\u001b[0merrstate\u001b[0m\u001b[0;34m(\u001b[0m\u001b[0mdivide\u001b[0m\u001b[0;34m=\u001b[0m\u001b[0;34m'ignore'\u001b[0m\u001b[0;34m,\u001b[0m \u001b[0minvalid\u001b[0m\u001b[0;34m=\u001b[0m\u001b[0;34m'ignore'\u001b[0m\u001b[0;34m)\u001b[0m\u001b[0;34m:\u001b[0m\u001b[0;34m\u001b[0m\u001b[0;34m\u001b[0m\u001b[0m\n\u001b[1;32m   1852\u001b[0m         \u001b[0mper_class\u001b[0m \u001b[0;34m=\u001b[0m \u001b[0mnp\u001b[0m\u001b[0;34m.\u001b[0m\u001b[0mdiag\u001b[0m\u001b[0;34m(\u001b[0m\u001b[0mC\u001b[0m\u001b[0;34m)\u001b[0m \u001b[0;34m/\u001b[0m \u001b[0mC\u001b[0m\u001b[0;34m.\u001b[0m\u001b[0msum\u001b[0m\u001b[0;34m(\u001b[0m\u001b[0maxis\u001b[0m\u001b[0;34m=\u001b[0m\u001b[0;36m1\u001b[0m\u001b[0;34m)\u001b[0m\u001b[0;34m\u001b[0m\u001b[0;34m\u001b[0m\u001b[0m\n",
      "\u001b[0;32m/opt/conda/lib/python3.7/site-packages/sklearn/utils/validation.py\u001b[0m in \u001b[0;36minner_f\u001b[0;34m(*args, **kwargs)\u001b[0m\n\u001b[1;32m     61\u001b[0m             \u001b[0mextra_args\u001b[0m \u001b[0;34m=\u001b[0m \u001b[0mlen\u001b[0m\u001b[0;34m(\u001b[0m\u001b[0margs\u001b[0m\u001b[0;34m)\u001b[0m \u001b[0;34m-\u001b[0m \u001b[0mlen\u001b[0m\u001b[0;34m(\u001b[0m\u001b[0mall_args\u001b[0m\u001b[0;34m)\u001b[0m\u001b[0;34m\u001b[0m\u001b[0;34m\u001b[0m\u001b[0m\n\u001b[1;32m     62\u001b[0m             \u001b[0;32mif\u001b[0m \u001b[0mextra_args\u001b[0m \u001b[0;34m<=\u001b[0m \u001b[0;36m0\u001b[0m\u001b[0;34m:\u001b[0m\u001b[0;34m\u001b[0m\u001b[0;34m\u001b[0m\u001b[0m\n\u001b[0;32m---> 63\u001b[0;31m                 \u001b[0;32mreturn\u001b[0m \u001b[0mf\u001b[0m\u001b[0;34m(\u001b[0m\u001b[0;34m*\u001b[0m\u001b[0margs\u001b[0m\u001b[0;34m,\u001b[0m \u001b[0;34m**\u001b[0m\u001b[0mkwargs\u001b[0m\u001b[0;34m)\u001b[0m\u001b[0;34m\u001b[0m\u001b[0;34m\u001b[0m\u001b[0m\n\u001b[0m\u001b[1;32m     64\u001b[0m \u001b[0;34m\u001b[0m\u001b[0m\n\u001b[1;32m     65\u001b[0m             \u001b[0;31m# extra_args > 0\u001b[0m\u001b[0;34m\u001b[0m\u001b[0;34m\u001b[0m\u001b[0;34m\u001b[0m\u001b[0m\n",
      "\u001b[0;32m/opt/conda/lib/python3.7/site-packages/sklearn/metrics/_classification.py\u001b[0m in \u001b[0;36mconfusion_matrix\u001b[0;34m(y_true, y_pred, labels, sample_weight, normalize)\u001b[0m\n\u001b[1;32m    297\u001b[0m \u001b[0;34m\u001b[0m\u001b[0m\n\u001b[1;32m    298\u001b[0m     \"\"\"\n\u001b[0;32m--> 299\u001b[0;31m     \u001b[0my_type\u001b[0m\u001b[0;34m,\u001b[0m \u001b[0my_true\u001b[0m\u001b[0;34m,\u001b[0m \u001b[0my_pred\u001b[0m \u001b[0;34m=\u001b[0m \u001b[0m_check_targets\u001b[0m\u001b[0;34m(\u001b[0m\u001b[0my_true\u001b[0m\u001b[0;34m,\u001b[0m \u001b[0my_pred\u001b[0m\u001b[0;34m)\u001b[0m\u001b[0;34m\u001b[0m\u001b[0;34m\u001b[0m\u001b[0m\n\u001b[0m\u001b[1;32m    300\u001b[0m     \u001b[0;32mif\u001b[0m \u001b[0my_type\u001b[0m \u001b[0;32mnot\u001b[0m \u001b[0;32min\u001b[0m \u001b[0;34m(\u001b[0m\u001b[0;34m\"binary\"\u001b[0m\u001b[0;34m,\u001b[0m \u001b[0;34m\"multiclass\"\u001b[0m\u001b[0;34m)\u001b[0m\u001b[0;34m:\u001b[0m\u001b[0;34m\u001b[0m\u001b[0;34m\u001b[0m\u001b[0m\n\u001b[1;32m    301\u001b[0m         \u001b[0;32mraise\u001b[0m \u001b[0mValueError\u001b[0m\u001b[0;34m(\u001b[0m\u001b[0;34m\"%s is not supported\"\u001b[0m \u001b[0;34m%\u001b[0m \u001b[0my_type\u001b[0m\u001b[0;34m)\u001b[0m\u001b[0;34m\u001b[0m\u001b[0;34m\u001b[0m\u001b[0m\n",
      "\u001b[0;32m/opt/conda/lib/python3.7/site-packages/sklearn/metrics/_classification.py\u001b[0m in \u001b[0;36m_check_targets\u001b[0;34m(y_true, y_pred)\u001b[0m\n\u001b[1;32m     91\u001b[0m     \u001b[0;32mif\u001b[0m \u001b[0mlen\u001b[0m\u001b[0;34m(\u001b[0m\u001b[0my_type\u001b[0m\u001b[0;34m)\u001b[0m \u001b[0;34m>\u001b[0m \u001b[0;36m1\u001b[0m\u001b[0;34m:\u001b[0m\u001b[0;34m\u001b[0m\u001b[0;34m\u001b[0m\u001b[0m\n\u001b[1;32m     92\u001b[0m         raise ValueError(\"Classification metrics can't handle a mix of {0} \"\n\u001b[0;32m---> 93\u001b[0;31m                          \"and {1} targets\".format(type_true, type_pred))\n\u001b[0m\u001b[1;32m     94\u001b[0m \u001b[0;34m\u001b[0m\u001b[0m\n\u001b[1;32m     95\u001b[0m     \u001b[0;31m# We can't have more than one value on y_type => The set is no more needed\u001b[0m\u001b[0;34m\u001b[0m\u001b[0;34m\u001b[0m\u001b[0;34m\u001b[0m\u001b[0m\n",
      "\u001b[0;31mValueError\u001b[0m: Classification metrics can't handle a mix of multilabel-indicator and multiclass targets"
     ]
    }
   ],
   "source": [
    "from sklearn.metrics import balanced_accuracy_score\n",
    "balanced_accuracy_score(y, y_pred)"
   ]
  }
 ],
 "metadata": {
  "kernelspec": {
   "display_name": "Python 3",
   "language": "python",
   "name": "python3"
  },
  "language_info": {
   "codemirror_mode": {
    "name": "ipython",
    "version": 3
   },
   "file_extension": ".py",
   "mimetype": "text/x-python",
   "name": "python",
   "nbconvert_exporter": "python",
   "pygments_lexer": "ipython3",
   "version": "3.7.10"
  }
 },
 "nbformat": 4,
 "nbformat_minor": 5
}
