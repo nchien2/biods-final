{
 "cells": [
  {
   "cell_type": "code",
   "execution_count": 1,
   "id": "cheap-price",
   "metadata": {},
   "outputs": [],
   "source": [
    "import pandas as pd\n",
    "import numpy as np\n",
    "import matplotlib.pyplot as plt\n",
    "import h5py\n",
    "from collections import Counter\n",
    "import tensorflow as tf\n",
    "import keras\n",
    "from tensorflow.keras import layers"
   ]
  },
  {
   "cell_type": "code",
   "execution_count": 2,
   "id": "simple-resistance",
   "metadata": {},
   "outputs": [],
   "source": [
    "f = h5py.File('mouse1sample1.hdf5','r')"
   ]
  },
  {
   "cell_type": "code",
   "execution_count": 3,
   "id": "biological-batman",
   "metadata": {},
   "outputs": [],
   "source": [
    "# Generate \n",
    "genes = set()\n",
    "annotated_cells = []\n",
    "annotations = []\n",
    "\n",
    "for cell_id in f['cells']:\n",
    "    cell = f['cells'][cell_id]\n",
    "    ann = dict(cell.attrs)['annotation']\n",
    "    if ann != 'unannotated':\n",
    "        annotated_cells.append(cell_id)\n",
    "        annotations.append(ann)\n",
    "    for z in cell.attrs['zslices']:\n",
    "        spot_genes = cell['spot_genes'][z]\n",
    "        genes.update(set(spot_genes))\n",
    "annotations_count = Counter(annotations)"
   ]
  },
  {
   "cell_type": "code",
   "execution_count": 4,
   "id": "national-column",
   "metadata": {},
   "outputs": [
    {
     "name": "stdout",
     "output_type": "stream",
     "text": [
      "Number of Annotated Samples: 18453\n",
      "Num of Cell Types: 93\n",
      "Max Number of Samples per Cell Type: 2136\n",
      "Min Number of Samples per Cell Type: 1\n",
      "Average Number of Samples per Cell Type: 198.41935483870967\n"
     ]
    },
    {
     "data": {
      "text/plain": [
       "<BarContainer object of 93 artists>"
      ]
     },
     "execution_count": 4,
     "metadata": {},
     "output_type": "execute_result"
    },
    {
     "data": {
      "image/png": "[encoded data removed]",
      "text/plain": [
       "<Figure size 432x288 with 1 Axes>"
      ]
     },
     "metadata": {
      "needs_background": "light"
     },
     "output_type": "display_data"
    }
   ],
   "source": [
    "print(\"Number of Annotated Samples:\", len(annotated_cells))\n",
    "print(\"Num of Cell Types:\", len(annotations_count))\n",
    "print(\"Max Number of Samples per Cell Type:\", max(annotations_count.values()))\n",
    "print(\"Min Number of Samples per Cell Type:\", min(annotations_count.values()))\n",
    "print(\"Average Number of Samples per Cell Type:\", sum(annotations_count.values())/93)\n",
    "\n",
    "#graph of num of samples across cell-types \n",
    "plt.bar(np.arange(0,93), annotations_count.values())"
   ]
  },
  {
   "cell_type": "code",
   "execution_count": 43,
   "id": "ab31f88a",
   "metadata": {},
   "outputs": [
    {
     "name": "stderr",
     "output_type": "stream",
     "text": [
      "/opt/conda/lib/python3.7/site-packages/ipykernel_launcher.py:36: VisibleDeprecationWarning: Creating an ndarray from ragged nested sequences (which is a list-or-tuple of lists-or-tuples-or ndarrays with different lengths or shapes) is deprecated. If you meant to do this, you must specify 'dtype=object' when creating the ndarray\n",
      "/opt/conda/lib/python3.7/site-packages/ipykernel_launcher.py:37: VisibleDeprecationWarning: Creating an ndarray from ragged nested sequences (which is a list-or-tuple of lists-or-tuples-or ndarrays with different lengths or shapes) is deprecated. If you meant to do this, you must specify 'dtype=object' when creating the ndarray\n"
     ]
    },
    {
     "name": "stdout",
     "output_type": "stream",
     "text": [
      "(18453, 1682, 3)\n"
     ]
    }
   ],
   "source": [
    "# Long processing step to extract coordinates and genes, run only once\n",
    "\n",
    "maxlen = 1682\n",
    "data_coords = []\n",
    "data_genes = []\n",
    "gene_indices = {k: v for v, k in enumerate(set(genes))}\n",
    "\n",
    "for cell_id in annotated_cells:\n",
    "    cell_coords = []\n",
    "    cell_genes = []\n",
    "    cell = f['cells'][cell_id]\n",
    "    keys = list(cell['boundaries'].keys())\n",
    "    \n",
    "    for z in cell.attrs['zslices']:   \n",
    "        spot_coords = cell['spot_coords'][z]\n",
    "        spot_genes = cell['spot_genes'][z]\n",
    "        \n",
    "        cell_coords += list(spot_coords)\n",
    "        cell_genes += [gene_indices[gene] for gene in list(spot_genes)]\n",
    "        \n",
    "    z = keys[int(len(keys)/2)]\n",
    "    boundary = cell['boundaries'][z]\n",
    "     \n",
    "    cell_coords += list(boundary)\n",
    "    cell_genes += [-1] * len(boundary)\n",
    "    \n",
    "    data_coords.append(cell_coords)\n",
    "    data_genes.append(cell_genes)\n",
    "\n",
    "\n",
    "data_coords = keras.preprocessing.sequence.pad_sequences(np.array(data_coords), maxlen = maxlen)\n",
    "data_genes = np.expand_dims(keras.preprocessing.sequence.pad_sequences(np.array(data_genes), maxlen=maxlen), axis=-1)\n",
    "\n",
    "data = np.concatenate([data_coords, data_genes], axis=-1)\n",
    "print(data.shape)\n",
    "np.save('data.npy', data)"
   ]
  },
  {
   "cell_type": "code",
   "execution_count": 137,
   "id": "f3bcf8a2",
   "metadata": {},
   "outputs": [
    {
     "name": "stdout",
     "output_type": "stream",
     "text": [
      "(18453, 1682, 3)\n"
     ]
    }
   ],
   "source": [
    "with open('data.npy', 'rb') as f:\n",
    "    data = np.load(f)\n",
    "print(data.shape)"
   ]
  },
  {
   "cell_type": "code",
   "execution_count": 44,
   "id": "continued-firewall",
   "metadata": {},
   "outputs": [],
   "source": [
    "# creating one-hot coded vectors for cell-type (labels for multi)\n",
    "annotation_indices = {k: v for v, k in enumerate(list(annotations_count.keys()))}\n",
    "labels = np.zeros((len(annotated_cells), len(annotation_indices)))\n",
    "for index in range(len(annotated_cells)):\n",
    "    cell = f['cells'][annotated_cells[index]]\n",
    "    ann = dict(cell.attrs)['annotation']\n",
    "    arr_index = annotation_indices[ann]\n",
    "    labels[index][arr_index] = 1"
   ]
  },
  {
   "cell_type": "code",
   "execution_count": 22,
   "id": "2331cc32",
   "metadata": {},
   "outputs": [
    {
     "name": "stdout",
     "output_type": "stream",
     "text": [
      "1682\n"
     ]
    }
   ],
   "source": [
    "maxlen = 0\n",
    "for ex in data:\n",
    "    if len(ex[1]) > maxlen:\n",
    "        maxlen = len(ex[1])\n",
    "print(maxlen)       "
   ]
  },
  {
   "cell_type": "code",
   "execution_count": 139,
   "id": "51a69de6",
   "metadata": {},
   "outputs": [
    {
     "name": "stdout",
     "output_type": "stream",
     "text": [
      "(12917, 1682, 3) (12917, 93)\n",
      "(2768, 1682, 3) (2768, 93)\n",
      "(2768, 1682, 3) (2768, 93)\n"
     ]
    }
   ],
   "source": [
    "from sklearn.model_selection import train_test_split\n",
    "\n",
    "train, test, train_y, test_y = train_test_split(data, labels, test_size=0.3)\n",
    "test, val, test_y, val_y = train_test_split(test, test_y, test_size=0.5)\n",
    "\n",
    "val = keras.preprocessing.sequence.pad_sequences(val, maxlen=maxlen)\n",
    "test = keras.preprocessing.sequence.pad_sequences(test, maxlen=maxlen)\n",
    "\n",
    "print(train.shape, train_y.shape)\n",
    "print(val.shape, val_y.shape)\n",
    "print(test.shape, test_y.shape)"
   ]
  },
  {
   "cell_type": "code",
   "execution_count": 72,
   "id": "575ec178",
   "metadata": {},
   "outputs": [],
   "source": [
    "class TransformerBlock(layers.Layer):\n",
    "    def __init__(self, embed_dim, num_heads, ff_dim, rate=0.1):\n",
    "        super(TransformerBlock, self).__init__()\n",
    "        self.att = layers.MultiHeadAttention(num_heads=num_heads, key_dim=embed_dim)\n",
    "        self.ffn = keras.Sequential(\n",
    "            [layers.Dense(ff_dim, activation=\"relu\"), layers.Dense(embed_dim),]\n",
    "        )\n",
    "        self.layernorm1 = layers.LayerNormalization(epsilon=1e-6)\n",
    "        self.layernorm2 = layers.LayerNormalization(epsilon=1e-6)\n",
    "        self.dropout1 = layers.Dropout(rate)\n",
    "        self.dropout2 = layers.Dropout(rate)\n",
    "\n",
    "    def call(self, inputs, training):\n",
    "        attn_output = self.att(inputs, inputs)\n",
    "        attn_output = self.dropout1(attn_output, training=training)\n",
    "        out1 = self.layernorm1(inputs + attn_output)\n",
    "        ffn_output = self.ffn(out1)\n",
    "        ffn_output = self.dropout2(ffn_output, training=training)\n",
    "        return self.layernorm2(out1 + ffn_output)"
   ]
  },
  {
   "cell_type": "code",
   "execution_count": 125,
   "id": "a7f9e2dc",
   "metadata": {},
   "outputs": [],
   "source": [
    "class GeneAndPositionEmbedding(layers.Layer):\n",
    "    def __init__(self, coord_size, vocab_size, embed_dim):\n",
    "        super(GeneAndPositionEmbedding, self).__init__()\n",
    "        self.token_emb = layers.Embedding(input_dim=vocab_size, output_dim=embed_dim)\n",
    "        self.x_emb = layers.Embedding(input_dim=coord_size, output_dim=embed_dim)\n",
    "        self.y_emb = layers.Embedding(input_dim=coord_size, output_dim=embed_dim)\n",
    "\n",
    "    def call(self, x):\n",
    "        xcoord = self.x_emb(x[:,:,0])\n",
    "        ycoord = self.y_emb(x[:,:,1])\n",
    "        genes = self.token_emb(x[:,:,-1])\n",
    "        return xcoord + ycoord + genes"
   ]
  },
  {
   "cell_type": "code",
   "execution_count": 138,
   "id": "3cabc0c2",
   "metadata": {},
   "outputs": [],
   "source": [
    "# Temporary code to get coord_size for use in the embedding layer (found to be 10880)\n",
    "\n",
    "# min = 0\n",
    "# max = 0\n",
    "\n",
    "# for point in data:\n",
    "#     for coord in point:\n",
    "#         if coord[0] > max:\n",
    "#             max = coord[0]\n",
    "#         if coord[0] < min:\n",
    "#             min = coord[0]\n",
    "            \n",
    "#         if coord[1] > max:\n",
    "#             max = coord[1]\n",
    "#         if coord[1] < min:\n",
    "#             min = coord[1]\n",
    "    \n",
    "# print(min)\n",
    "# print(max)\n",
    "# print(max - min)"
   ]
  },
  {
   "cell_type": "code",
   "execution_count": 132,
   "id": "d1f69e51",
   "metadata": {},
   "outputs": [],
   "source": [
    "embed_dim = 32  # Embedding size for each token\n",
    "num_heads = 3  # Number of attention heads\n",
    "ff_dim = 32  # Hidden layer size in feed forward network inside transformer\n",
    "vocab_size = len(genes) + 1\n",
    "coord_size = 10880\n",
    "\n",
    "inputs = layers.Input(shape=(maxlen,3))\n",
    "embedding_layer = GeneAndPositionEmbedding(coord_size, vocab_size, embed_dim)\n",
    "x = embedding_layer(inputs)\n",
    "transformer_block = TransformerBlock(embed_dim, num_heads, ff_dim)\n",
    "x = transformer_block(x)\n",
    "x = layers.GlobalAveragePooling1D()(x)\n",
    "x = layers.Dropout(0.1)(x)\n",
    "x = layers.Dense(20, activation=\"relu\")(x)\n",
    "x = layers.Dropout(0.1)(x)\n",
    "outputs = layers.Dense(93, activation=\"softmax\")(x)\n",
    "\n",
    "model = keras.Model(inputs=inputs, outputs=outputs)"
   ]
  },
  {
   "cell_type": "code",
   "execution_count": 133,
   "id": "7034f447",
   "metadata": {},
   "outputs": [
    {
     "name": "stdout",
     "output_type": "stream",
     "text": [
      "Epoch 1/10\n",
      "404/404 [==============================] - 123s 301ms/step - loss: 3.0467 - accuracy: 0.2593 - val_loss: 1.6231 - val_accuracy: 0.6022\n",
      "Epoch 2/10\n",
      "404/404 [==============================] - 121s 300ms/step - loss: 1.3710 - accuracy: 0.6458 - val_loss: 1.1203 - val_accuracy: 0.6998\n",
      "Epoch 3/10\n",
      "404/404 [==============================] - 121s 301ms/step - loss: 1.0022 - accuracy: 0.7263 - val_loss: 1.0474 - val_accuracy: 0.7124\n",
      "Epoch 4/10\n",
      "404/404 [==============================] - 120s 298ms/step - loss: 0.8124 - accuracy: 0.7667 - val_loss: 1.0378 - val_accuracy: 0.7222\n",
      "Epoch 5/10\n",
      "404/404 [==============================] - 120s 297ms/step - loss: 0.6981 - accuracy: 0.7959 - val_loss: 1.0600 - val_accuracy: 0.7207\n",
      "Epoch 6/10\n",
      "404/404 [==============================] - 121s 298ms/step - loss: 0.6000 - accuracy: 0.8236 - val_loss: 1.0630 - val_accuracy: 0.7399\n",
      "Epoch 7/10\n",
      "404/404 [==============================] - 120s 298ms/step - loss: 0.5341 - accuracy: 0.8382 - val_loss: 1.0760 - val_accuracy: 0.7417\n",
      "Epoch 8/10\n",
      "404/404 [==============================] - 121s 300ms/step - loss: 0.4980 - accuracy: 0.8473 - val_loss: 1.1836 - val_accuracy: 0.7334\n",
      "Epoch 9/10\n",
      "404/404 [==============================] - 120s 298ms/step - loss: 0.4579 - accuracy: 0.8579 - val_loss: 1.1385 - val_accuracy: 0.7384\n",
      "Epoch 10/10\n",
      "404/404 [==============================] - 120s 297ms/step - loss: 0.4167 - accuracy: 0.8712 - val_loss: 1.1568 - val_accuracy: 0.7417\n"
     ]
    }
   ],
   "source": [
    "#TODO: Prevent overfitting, experiment with learning rate\n",
    "# lr= tf.keras.optimizers.schedules.ExponentialDecay(\n",
    "#     0.0001,\n",
    "#     decay_steps=100000,\n",
    "#     decay_rate=0.95,\n",
    "#     staircase=True)\n",
    "\n",
    "model.compile(optimizer=\"adam\", loss=\"categorical_crossentropy\", metrics=[\"accuracy\"])\n",
    "history = model.fit(\n",
    "    train, train_y, batch_size=32, epochs=10, validation_data=(val, val_y)\n",
    ")"
   ]
  },
  {
   "cell_type": "code",
   "execution_count": 141,
   "id": "b110bff4",
   "metadata": {},
   "outputs": [
    {
     "name": "stdout",
     "output_type": "stream",
     "text": [
      "87/87 [==============================] - 10s 111ms/step - loss: 0.5033 - accuracy: 0.8689\n"
     ]
    },
    {
     "data": {
      "text/plain": [
       "[0.5032734274864197, 0.8688583970069885]"
      ]
     },
     "execution_count": 141,
     "metadata": {},
     "output_type": "execute_result"
    }
   ],
   "source": [
    "model.evaluate(test, test_y)"
   ]
  }
 ],
 "metadata": {
  "kernelspec": {
   "display_name": "Python 3",
   "language": "python",
   "name": "python3"
  },
  "language_info": {
   "codemirror_mode": {
    "name": "ipython",
    "version": 3
   },
   "file_extension": ".py",
   "mimetype": "text/x-python",
   "name": "python",
   "nbconvert_exporter": "python",
   "pygments_lexer": "ipython3",
   "version": "3.7.10"
  }
 },
 "nbformat": 4,
 "nbformat_minor": 5
}
