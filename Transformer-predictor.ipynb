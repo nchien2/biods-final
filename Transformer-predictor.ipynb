{
 "cells": [
  {
   "cell_type": "code",
   "execution_count": 1,
   "id": "cheap-price",
   "metadata": {},
   "outputs": [],
   "source": [
    "import pandas as pd\n",
    "import numpy as np\n",
    "import matplotlib.pyplot as plt\n",
    "import h5py\n",
    "from collections import Counter\n",
    "import tensorflow as tf\n",
    "import keras\n",
    "from tensorflow.keras import layers"
   ]
  },
  {
   "cell_type": "code",
   "execution_count": 2,
   "id": "simple-resistance",
   "metadata": {},
   "outputs": [],
   "source": [
    "f = h5py.File('mouse1sample1.hdf5','r')"
   ]
  },
  {
   "cell_type": "code",
   "execution_count": 4,
   "id": "biological-batman",
   "metadata": {},
   "outputs": [],
   "source": [
    "# Generate \n",
    "genes = set()\n",
    "annotated_cells = []\n",
    "annotations = []\n",
    "\n",
    "for cell_id in f['cells']:\n",
    "    cell = f['cells'][cell_id]\n",
    "    ann = dict(cell.attrs)['annotation']\n",
    "    if ann != 'unannotated':\n",
    "        annotated_cells.append(cell_id)\n",
    "        annotations.append(ann)\n",
    "    for z in cell.attrs['zslices']:\n",
    "        spot_genes = cell['spot_genes'][z]\n",
    "        genes.update(set(spot_genes))\n",
    "annotations_count = Counter(annotations)"
   ]
  },
  {
   "cell_type": "code",
   "execution_count": 5,
   "id": "national-column",
   "metadata": {
    "scrolled": false
   },
   "outputs": [
    {
     "name": "stdout",
     "output_type": "stream",
     "text": [
      "Number of Annotated Samples: 18453\n",
      "Num of Cell Types: 93\n",
      "Max Number of Samples per Cell Type: 2136\n",
      "Min Number of Samples per Cell Type: 1\n",
      "Average Number of Samples per Cell Type: 198.41935483870967\n"
     ]
    },
    {
     "data": {
      "text/plain": [
       "<BarContainer object of 93 artists>"
      ]
     },
     "execution_count": 5,
     "metadata": {},
     "output_type": "execute_result"
    },
    {
     "data": {
      "image/png": "[encoded data removed]",
      "text/plain": [
       "<Figure size 432x288 with 1 Axes>"
      ]
     },
     "metadata": {
      "needs_background": "light"
     },
     "output_type": "display_data"
    }
   ],
   "source": [
    "print(\"Number of Annotated Samples:\", len(annotated_cells))\n",
    "print(\"Num of Cell Types:\", len(annotations_count))\n",
    "print(\"Max Number of Samples per Cell Type:\", max(annotations_count.values()))\n",
    "print(\"Min Number of Samples per Cell Type:\", min(annotations_count.values()))\n",
    "print(\"Average Number of Samples per Cell Type:\", sum(annotations_count.values())/93)\n",
    "\n",
    "#graph of num of samples across cell-types \n",
    "plt.bar(np.arange(0,93), annotations_count.values())"
   ]
  },
  {
   "cell_type": "code",
   "execution_count": 6,
   "id": "55df58fc",
   "metadata": {},
   "outputs": [
    {
     "name": "stderr",
     "output_type": "stream",
     "text": [
      "/opt/conda/lib/python3.7/site-packages/ipykernel_launcher.py:36: VisibleDeprecationWarning: Creating an ndarray from ragged nested sequences (which is a list-or-tuple of lists-or-tuples-or ndarrays with different lengths or shapes) is deprecated. If you meant to do this, you must specify 'dtype=object' when creating the ndarray\n",
      "/opt/conda/lib/python3.7/site-packages/ipykernel_launcher.py:37: VisibleDeprecationWarning: Creating an ndarray from ragged nested sequences (which is a list-or-tuple of lists-or-tuples-or ndarrays with different lengths or shapes) is deprecated. If you meant to do this, you must specify 'dtype=object' when creating the ndarray\n"
     ]
    },
    {
     "name": "stdout",
     "output_type": "stream",
     "text": [
      "(18453, 1508, 3)\n"
     ]
    }
   ],
   "source": [
    "maxlen = 1508\n",
    "data_coords = []\n",
    "data_genes = []\n",
    "gene_indices = {k: v for v, k in enumerate(set(genes))}\n",
    "\n",
    "i = 0\n",
    "for cell_id in annotated_cells:\n",
    "    cell_coords = []\n",
    "    cell_genes = []\n",
    "    cell = f['cells'][cell_id]\n",
    "    keys = list(cell['boundaries'].keys())\n",
    "    \n",
    "    midslice = keys[int(len(keys)/2)]\n",
    "    boundary = np.array(cell['boundaries'][midslice])\n",
    "\n",
    "    midpoint = [np.mean(boundary[:,0]), np.mean(boundary[:,1])]\n",
    "\n",
    "#     cell_coords += list(np.array(boundary) - midpoint)\n",
    "#     cell_genes += [-1] * len(boundary)\n",
    "    \n",
    "    for z in cell.attrs['zslices']:   \n",
    "        spot_coords = cell['spot_coords'][z]\n",
    "        spot_genes = cell['spot_genes'][z]\n",
    "        \n",
    "        spot_coords = np.array(spot_coords)\n",
    "        spot_coords -= midpoint\n",
    "        spot_coords = np.absolute(spot_coords)\n",
    "\n",
    "        cell_coords += list(spot_coords)\n",
    "        cell_genes += [gene_indices[gene] for gene in list(spot_genes)]\n",
    "    \n",
    "    data_coords.append(cell_coords)\n",
    "    data_genes.append(cell_genes)\n",
    "\n",
    "\n",
    "data_coords = keras.preprocessing.sequence.pad_sequences(np.array(data_coords), maxlen = maxlen, value=-1)\n",
    "data_genes = np.expand_dims(keras.preprocessing.sequence.pad_sequences(np.array(data_genes), maxlen=maxlen, value=-1), axis=-1)\n",
    "\n",
    "\n",
    "data = np.concatenate([data_coords, data_genes], axis=-1)\n",
    "print(data.shape)\n",
    "np.save('data_noboundary.npy', data)"
   ]
  },
  {
   "cell_type": "code",
   "execution_count": 33,
   "id": "2a28ec8b",
   "metadata": {},
   "outputs": [
    {
     "name": "stdout",
     "output_type": "stream",
     "text": [
      "(18453, 1682, 3)\n"
     ]
    }
   ],
   "source": [
    "maxlen = 1508\n",
    "with open('data_noboundary.npy', 'rb') as file:\n",
    "    data = np.load(file)\n",
    "print(data.shape)"
   ]
  },
  {
   "cell_type": "code",
   "execution_count": 7,
   "id": "continued-firewall",
   "metadata": {},
   "outputs": [],
   "source": [
    "# creating one-hot coded vectors for cell-type (labels for multi)\n",
    "annotation_indices = {k: v for v, k in enumerate(list(annotations_count.keys()))}\n",
    "labels = np.zeros((len(annotated_cells), len(annotation_indices)))\n",
    "for index in range(len(annotated_cells)):\n",
    "    cell = f['cells'][annotated_cells[index]]\n",
    "    ann = dict(cell.attrs)['annotation']\n",
    "    arr_index = annotation_indices[ann]\n",
    "    labels[index][arr_index] = 1"
   ]
  },
  {
   "cell_type": "code",
   "execution_count": 8,
   "id": "51a69de6",
   "metadata": {},
   "outputs": [
    {
     "name": "stdout",
     "output_type": "stream",
     "text": [
      "(12917, 1508, 3) (12917, 93)\n",
      "(2768, 1508, 3) (2768, 93)\n",
      "(2768, 1508, 3) (2768, 93)\n"
     ]
    }
   ],
   "source": [
    "from sklearn.model_selection import train_test_split\n",
    "\n",
    "train, test, train_y, test_y = train_test_split(data, labels, test_size=0.3)\n",
    "test, val, test_y, val_y = train_test_split(test, test_y, test_size=0.5)\n",
    "\n",
    "val = keras.preprocessing.sequence.pad_sequences(val, maxlen=maxlen)\n",
    "test = keras.preprocessing.sequence.pad_sequences(test, maxlen=maxlen)\n",
    "\n",
    "print(train.shape, train_y.shape)\n",
    "print(val.shape, val_y.shape)\n",
    "print(test.shape, test_y.shape)"
   ]
  },
  {
   "cell_type": "code",
   "execution_count": 9,
   "id": "575ec178",
   "metadata": {},
   "outputs": [],
   "source": [
    "class TransformerBlock(layers.Layer):\n",
    "    def __init__(self, embed_dim, num_heads, ff_dim, rate=0.1):\n",
    "        super(TransformerBlock, self).__init__()\n",
    "        self.att = layers.MultiHeadAttention(num_heads=num_heads, key_dim=embed_dim)\n",
    "        self.ffn = keras.Sequential(\n",
    "            [layers.Dense(ff_dim, activation=\"relu\"), layers.Dense(embed_dim),]\n",
    "        )\n",
    "        self.layernorm1 = layers.LayerNormalization(epsilon=1e-6)\n",
    "        self.layernorm2 = layers.LayerNormalization(epsilon=1e-6)\n",
    "        self.dropout1 = layers.Dropout(rate)\n",
    "        self.dropout2 = layers.Dropout(rate)\n",
    "\n",
    "    def call(self, inputs, training):\n",
    "        attn_output = self.att(inputs, inputs)\n",
    "        attn_output = self.dropout1(attn_output, training=training)\n",
    "        out1 = self.layernorm1(inputs + attn_output)\n",
    "        ffn_output = self.ffn(out1)\n",
    "        ffn_output = self.dropout2(ffn_output, training=training)\n",
    "        return self.layernorm2(out1 + ffn_output)"
   ]
  },
  {
   "cell_type": "code",
   "execution_count": 10,
   "id": "a7f9e2dc",
   "metadata": {},
   "outputs": [],
   "source": [
    "class GeneAndPositionEmbedding(layers.Layer):\n",
    "    def __init__(self, xcoord_size, ycoord_size, vocab_size, embed_dim):\n",
    "        super(GeneAndPositionEmbedding, self).__init__()\n",
    "        self.token_emb = layers.Embedding(input_dim=vocab_size, output_dim=embed_dim)\n",
    "        self.x_emb = layers.Embedding(input_dim=xcoord_size, output_dim=embed_dim)\n",
    "        self.y_emb = layers.Embedding(input_dim=ycoord_size, output_dim=embed_dim)\n",
    "\n",
    "    def call(self, x):\n",
    "        xcoord = self.x_emb(x[:,:,0])\n",
    "        ycoord = self.y_emb(x[:,:,1])\n",
    "        genes = self.token_emb(x[:,:,-1])\n",
    "        return xcoord + ycoord + genes"
   ]
  },
  {
   "cell_type": "code",
   "execution_count": 26,
   "id": "4fac94c3",
   "metadata": {},
   "outputs": [
    {
     "name": "stdout",
     "output_type": "stream",
     "text": [
      "10880\n",
      "7374\n"
     ]
    }
   ],
   "source": [
    "# Temporary code to get coord_size for use in the embedding layer (found to be 10880)\n",
    "\n",
    "minx = 0\n",
    "maxx = 0\n",
    "miny = 0\n",
    "maxy = 0\n",
    "\n",
    "for point in data:\n",
    "    for coord in point:\n",
    "        if coord[0] > maxx:\n",
    "            maxx = coord[0]\n",
    "        if coord[0] < minx:\n",
    "            minx = coord[0]\n",
    "            \n",
    "        if coord[1] > maxy:\n",
    "            maxy = coord[1]\n",
    "        if coord[1] < miny:\n",
    "            miny = coord[1]\n",
    "        \n",
    "    \n",
    "print(maxx - minx)\n",
    "print(maxy - miny)"
   ]
  },
  {
   "cell_type": "code",
   "execution_count": 11,
   "id": "d1f69e51",
   "metadata": {},
   "outputs": [
    {
     "name": "stderr",
     "output_type": "stream",
     "text": [
      "2021-12-10 06:59:54.534112: I tensorflow/stream_executor/cuda/cuda_gpu_executor.cc:937] successful NUMA node read from SysFS had negative value (-1), but there must be at least one NUMA node, so returning NUMA node zero\n",
      "2021-12-10 06:59:54.548782: I tensorflow/stream_executor/cuda/cuda_gpu_executor.cc:937] successful NUMA node read from SysFS had negative value (-1), but there must be at least one NUMA node, so returning NUMA node zero\n",
      "2021-12-10 06:59:54.549522: I tensorflow/stream_executor/cuda/cuda_gpu_executor.cc:937] successful NUMA node read from SysFS had negative value (-1), but there must be at least one NUMA node, so returning NUMA node zero\n",
      "2021-12-10 06:59:54.550943: I tensorflow/core/platform/cpu_feature_guard.cc:142] This TensorFlow binary is optimized with oneAPI Deep Neural Network Library (oneDNN) to use the following CPU instructions in performance-critical operations:  AVX2 FMA\n",
      "To enable them in other operations, rebuild TensorFlow with the appropriate compiler flags.\n",
      "2021-12-10 06:59:54.551197: I tensorflow/stream_executor/cuda/cuda_gpu_executor.cc:937] successful NUMA node read from SysFS had negative value (-1), but there must be at least one NUMA node, so returning NUMA node zero\n",
      "2021-12-10 06:59:54.551997: I tensorflow/stream_executor/cuda/cuda_gpu_executor.cc:937] successful NUMA node read from SysFS had negative value (-1), but there must be at least one NUMA node, so returning NUMA node zero\n",
      "2021-12-10 06:59:54.552856: I tensorflow/stream_executor/cuda/cuda_gpu_executor.cc:937] successful NUMA node read from SysFS had negative value (-1), but there must be at least one NUMA node, so returning NUMA node zero\n",
      "2021-12-10 06:59:54.955564: I tensorflow/stream_executor/cuda/cuda_gpu_executor.cc:937] successful NUMA node read from SysFS had negative value (-1), but there must be at least one NUMA node, so returning NUMA node zero\n",
      "2021-12-10 06:59:54.956450: I tensorflow/stream_executor/cuda/cuda_gpu_executor.cc:937] successful NUMA node read from SysFS had negative value (-1), but there must be at least one NUMA node, so returning NUMA node zero\n",
      "2021-12-10 06:59:54.957260: I tensorflow/stream_executor/cuda/cuda_gpu_executor.cc:937] successful NUMA node read from SysFS had negative value (-1), but there must be at least one NUMA node, so returning NUMA node zero\n",
      "2021-12-10 06:59:54.958059: I tensorflow/core/common_runtime/gpu/gpu_device.cc:1510] Created device /job:localhost/replica:0/task:0/device:GPU:0 with 10819 MB memory:  -> device: 0, name: Tesla K80, pci bus id: 0000:00:04.0, compute capability: 3.7\n"
     ]
    }
   ],
   "source": [
    "embed_dim = 32  # Embedding size for each token\n",
    "num_heads = 3  # Number of attention heads\n",
    "ff_dim = 32  # Hidden layer size in feed forward network inside transformer\n",
    "vocab_size = len(genes)\n",
    "xcoord_size = 10880\n",
    "ycoord_size = 7374\n",
    "num_transformer_blocks = 2\n",
    "\n",
    "inputs = layers.Input(shape=(maxlen,3))\n",
    "embedding_layer = GeneAndPositionEmbedding(xcoord_size, ycoord_size, vocab_size, embed_dim)\n",
    "x = embedding_layer(inputs)\n",
    "transformer_block = TransformerBlock(embed_dim, num_heads, ff_dim)\n",
    "for i in range(num_transformer_blocks):\n",
    "    x = transformer_block(x)\n",
    "\n",
    "x = layers.GlobalAveragePooling1D()(x)\n",
    "x = layers.Dropout(0.1)(x)\n",
    "x = layers.Dense(20, activation=\"relu\")(x)\n",
    "x = layers.Dropout(0.1)(x)\n",
    "outputs = layers.Dense(93, activation=\"softmax\")(x)\n",
    "\n",
    "model = keras.Model(inputs=inputs, outputs=outputs)"
   ]
  },
  {
   "cell_type": "code",
   "execution_count": 12,
   "id": "7034f447",
   "metadata": {},
   "outputs": [
    {
     "name": "stderr",
     "output_type": "stream",
     "text": [
      "2021-12-10 06:59:55.552442: I tensorflow/compiler/mlir/mlir_graph_optimization_pass.cc:185] None of the MLIR Optimization Passes are enabled (registered 2)\n"
     ]
    },
    {
     "name": "stdout",
     "output_type": "stream",
     "text": [
      "Epoch 1/20\n",
      "404/404 [==============================] - 197s 482ms/step - loss: 2.5494 - accuracy: 0.4020 - auc: 0.4128 - val_loss: 1.3642 - val_accuracy: 0.6745 - val_auc: 0.7305\n",
      "Epoch 2/20\n",
      "404/404 [==============================] - 194s 481ms/step - loss: 1.2677 - accuracy: 0.6738 - auc: 0.7327 - val_loss: 0.9560 - val_accuracy: 0.7435 - val_auc: 0.8233\n",
      "Epoch 3/20\n",
      "404/404 [==============================] - 193s 478ms/step - loss: 1.0370 - accuracy: 0.7143 - auc: 0.7858 - val_loss: 0.8105 - val_accuracy: 0.7702 - val_auc: 0.8526\n",
      "Epoch 4/20\n",
      "404/404 [==============================] - 194s 480ms/step - loss: 0.9174 - accuracy: 0.7415 - auc: 0.8171 - val_loss: 0.7200 - val_accuracy: 0.7905 - val_auc: 0.8744\n",
      "Epoch 5/20\n",
      "404/404 [==============================] - 193s 479ms/step - loss: 0.8331 - accuracy: 0.7624 - auc: 0.8380 - val_loss: 0.7177 - val_accuracy: 0.7876 - val_auc: 0.8719\n",
      "Epoch 6/20\n",
      "404/404 [==============================] - 194s 480ms/step - loss: 0.7895 - accuracy: 0.7683 - auc: 0.8476 - val_loss: 0.6827 - val_accuracy: 0.7991 - val_auc: 0.8822\n",
      "Epoch 7/20\n",
      "404/404 [==============================] - 193s 478ms/step - loss: 0.7522 - accuracy: 0.7784 - auc: 0.8584 - val_loss: 0.6296 - val_accuracy: 0.8111 - val_auc: 0.8935\n",
      "Epoch 8/20\n",
      "404/404 [==============================] - 194s 480ms/step - loss: 0.7322 - accuracy: 0.7841 - auc: 0.8632 - val_loss: 0.6923 - val_accuracy: 0.7959 - val_auc: 0.8788\n",
      "Epoch 9/20\n",
      "404/404 [==============================] - 193s 479ms/step - loss: 0.6889 - accuracy: 0.7938 - auc: 0.8721 - val_loss: 0.6252 - val_accuracy: 0.8186 - val_auc: 0.8940\n",
      "Epoch 10/20\n",
      "404/404 [==============================] - 194s 481ms/step - loss: 0.6633 - accuracy: 0.8017 - auc: 0.8787 - val_loss: 0.6418 - val_accuracy: 0.8067 - val_auc: 0.8906\n",
      "Epoch 11/20\n",
      "404/404 [==============================] - 193s 478ms/step - loss: 0.6378 - accuracy: 0.8081 - auc: 0.8854 - val_loss: 0.6227 - val_accuracy: 0.8233 - val_auc: 0.8986\n",
      "Epoch 12/20\n",
      "404/404 [==============================] - 194s 480ms/step - loss: 0.6332 - accuracy: 0.8055 - auc: 0.8848 - val_loss: 0.6407 - val_accuracy: 0.8092 - val_auc: 0.8885\n",
      "Epoch 13/20\n",
      "404/404 [==============================] - 193s 479ms/step - loss: 0.6140 - accuracy: 0.8088 - auc: 0.8885 - val_loss: 0.5977 - val_accuracy: 0.8194 - val_auc: 0.9018\n",
      "Epoch 14/20\n",
      "404/404 [==============================] - 194s 481ms/step - loss: 0.5993 - accuracy: 0.8147 - auc: 0.8939 - val_loss: 0.5888 - val_accuracy: 0.8158 - val_auc: 0.9047\n",
      "Epoch 15/20\n",
      "404/404 [==============================] - 193s 478ms/step - loss: 0.5805 - accuracy: 0.8198 - auc: 0.8989 - val_loss: 0.6235 - val_accuracy: 0.8129 - val_auc: 0.8964\n",
      "Epoch 16/20\n",
      "404/404 [==============================] - 194s 480ms/step - loss: 0.5684 - accuracy: 0.8219 - auc: 0.9011 - val_loss: 0.5789 - val_accuracy: 0.8233 - val_auc: 0.9058\n",
      "Epoch 17/20\n",
      "404/404 [==============================] - 193s 479ms/step - loss: 0.5639 - accuracy: 0.8287 - auc: 0.9013 - val_loss: 0.6149 - val_accuracy: 0.8280 - val_auc: 0.9012\n",
      "Epoch 18/20\n",
      "404/404 [==============================] - 194s 480ms/step - loss: 0.5470 - accuracy: 0.8277 - auc: 0.9050 - val_loss: 0.6031 - val_accuracy: 0.8212 - val_auc: 0.8980\n",
      "Epoch 19/20\n",
      "404/404 [==============================] - 193s 478ms/step - loss: 0.5479 - accuracy: 0.8282 - auc: 0.9057 - val_loss: 0.5838 - val_accuracy: 0.8295 - val_auc: 0.9066\n",
      "Epoch 20/20\n",
      "404/404 [==============================] - 193s 479ms/step - loss: 0.5248 - accuracy: 0.8320 - auc: 0.9115 - val_loss: 0.5908 - val_accuracy: 0.8204 - val_auc: 0.9036\n"
     ]
    }
   ],
   "source": [
    "#TODO: Prevent overfitting, experiment with learning rate\n",
    "lr= tf.keras.optimizers.schedules.ExponentialDecay(\n",
    "    0.001,\n",
    "    decay_steps=100000, #100000\n",
    "    decay_rate=0.95,\n",
    "    staircase=True)\n",
    "\n",
    "model.compile(optimizer=tf.optimizers.Adam(learning_rate=lr), loss=\"categorical_crossentropy\", metrics=[\"accuracy\", tf.keras.metrics.AUC(curve='PR')])\n",
    "history = model.fit(\n",
    "    train, train_y, batch_size=32, epochs=20, validation_data=(val, val_y)\n",
    ")"
   ]
  },
  {
   "cell_type": "code",
   "execution_count": 52,
   "id": "277e44fd",
   "metadata": {},
   "outputs": [
    {
     "name": "stderr",
     "output_type": "stream",
     "text": [
      "WARNING:absl:Found untraced functions such as embedding_3_layer_call_fn, embedding_3_layer_call_and_return_conditional_losses, embedding_4_layer_call_fn, embedding_4_layer_call_and_return_conditional_losses, embedding_5_layer_call_fn while saving (showing 5 of 70). These functions will not be directly callable after loading.\n"
     ]
    },
    {
     "name": "stdout",
     "output_type": "stream",
     "text": [
      "INFO:tensorflow:Assets written to: ./transformer_model/assets\n"
     ]
    },
    {
     "name": "stderr",
     "output_type": "stream",
     "text": [
      "INFO:tensorflow:Assets written to: ./transformer_model/assets\n"
     ]
    }
   ],
   "source": [
    "model.save('./transformer_model')"
   ]
  },
  {
   "cell_type": "code",
   "execution_count": 25,
   "id": "4ffefe07",
   "metadata": {},
   "outputs": [],
   "source": [
    "model = keras.models.load_model('./transformer_model')"
   ]
  },
  {
   "cell_type": "code",
   "execution_count": 13,
   "id": "30e48a03",
   "metadata": {},
   "outputs": [
    {
     "name": "stdout",
     "output_type": "stream",
     "text": [
      "87/87 [==============================] - 15s 174ms/step - loss: 0.6383 - accuracy: 0.8154 - auc: 0.8952\n"
     ]
    },
    {
     "data": {
      "text/plain": [
       "[0.6383054852485657, 0.8153901696205139, 0.8951987624168396]"
      ]
     },
     "execution_count": 13,
     "metadata": {},
     "output_type": "execute_result"
    }
   ],
   "source": [
    "model.evaluate(test, test_y)"
   ]
  },
  {
   "cell_type": "code",
   "execution_count": 14,
   "id": "200ad987",
   "metadata": {},
   "outputs": [
    {
     "name": "stdout",
     "output_type": "stream",
     "text": [
      "(2768,)\n",
      "(2768,)\n"
     ]
    },
    {
     "data": {
      "text/plain": [
       "0.49949939697431317"
      ]
     },
     "execution_count": 14,
     "metadata": {},
     "output_type": "execute_result"
    }
   ],
   "source": [
    "from sklearn.metrics import balanced_accuracy_score\n",
    "\n",
    "y_pred = model.predict(test)\n",
    "y_pred=np.argmax(y_pred, axis=1)\n",
    "y_test=np.argmax(test_y, axis=1)\n",
    "print(y_pred.shape)\n",
    "print(y_test.shape)\n",
    "\n",
    "balanced_accuracy_score(y_test, y_pred)"
   ]
  },
  {
   "cell_type": "code",
   "execution_count": 28,
   "id": "7e92e1cc",
   "metadata": {},
   "outputs": [
    {
     "data": {
      "image/png": "[encoded data removed]",
      "text/plain": [
       "<Figure size 432x288 with 2 Axes>"
      ]
     },
     "metadata": {
      "needs_background": "light"
     },
     "output_type": "display_data"
    }
   ],
   "source": [
    "import matplotlib.pyplot as plt\n",
    "from matplotlib.ticker import MaxNLocator\n",
    "\n",
    "# fig, axs = plt.subplots(2,2)\n",
    "\n",
    "# axs[0, 1].plot(history.history['accuracy'])\n",
    "# axs[0,1].plot(history.history['val_accuracy'])\n",
    "# axs[0,0].title('Transformer Accuracy')\n",
    "\n",
    "# axs[0,0].plot(history.history['loss'])\n",
    "# axs[0,0].plot(history.history['val_loss'])\n",
    "# axs[0,0].title('Transformer Loss')\n",
    "\n",
    "f, (ax1, ax2) = plt.subplots(1, 2)\n",
    "ax2.plot(history.history['accuracy'])\n",
    "ax2.plot(history.history['val_accuracy'])\n",
    "\n",
    "ax1.plot(history.history['loss'])\n",
    "ax1.plot(history.history['val_loss'])\n",
    "\n",
    "ax1.set_title('Transformer Loss')\n",
    "ax2.set_title('Transformer Accuracy')\n",
    "\n",
    "\n",
    "\n",
    "# plt.plot(history.history['acc'])\n",
    "# plt.plot(history.history['val_acc'])\n",
    "# plt.title('model accuracy')\n",
    "# plt.ylabel('accuracy')\n",
    "# plt.xlabel('epoch')\n",
    "ax1.legend(['train', 'val'], loc='upper left')\n",
    "ax2.legend(['train', 'val'], loc='upper left')\n",
    "plt.subplots_adjust(right=1.5)\n",
    "ax1.xaxis.set_major_locator(MaxNLocator(integer=True))\n",
    "ax2.xaxis.set_major_locator(MaxNLocator(integer=True))\n",
    "\n",
    "ax1.set_xlabel('Epoch')\n",
    "ax1.set_ylabel('Loss')\n",
    "\n",
    "plt.xlabel('Epoch')\n",
    "plt.ylabel('Accuracy')\n",
    "\n",
    "plt.show()"
   ]
  }
 ],
 "metadata": {
  "kernelspec": {
   "display_name": "Python 3",
   "language": "python",
   "name": "python3"
  },
  "language_info": {
   "codemirror_mode": {
    "name": "ipython",
    "version": 3
   },
   "file_extension": ".py",
   "mimetype": "text/x-python",
   "name": "python",
   "nbconvert_exporter": "python",
   "pygments_lexer": "ipython3",
   "version": "3.7.10"
  }
 },
 "nbformat": 4,
 "nbformat_minor": 5
}
