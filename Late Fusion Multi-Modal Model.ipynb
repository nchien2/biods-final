{
 "cells": [
  {
   "cell_type": "code",
   "execution_count": 1,
   "id": "0e431d45",
   "metadata": {},
   "outputs": [],
   "source": [
    "import pandas as pd\n",
    "import numpy as np\n",
    "import matplotlib.pyplot as plt\n",
    "import h5py\n",
    "from collections import Counter\n",
    "import numpy as np\n",
    "from numpy import loadtxt\n",
    "import tensorflow as tf\n",
    "from sklearn.model_selection import train_test_split\n",
    "from sklearn.metrics import balanced_accuracy_score"
   ]
  },
  {
   "cell_type": "code",
   "execution_count": 2,
   "id": "f7a46f87",
   "metadata": {},
   "outputs": [],
   "source": [
    "# f = h5py.File('mouse1sample1.hdf5','r')\n",
    "# p_scores = pd.read_csv('merfish_M1S1_filtered_periph_scores.csv')\n",
    "# p_scores = p_scores.loc[p_scores['annotation'] != 'unannotated']"
   ]
  },
  {
   "cell_type": "code",
   "execution_count": 3,
   "id": "8925e5ff",
   "metadata": {},
   "outputs": [],
   "source": [
    "# time intensive step: get list of annotated cell_ids and annotation types \n",
    "# annotated_cells = []\n",
    "# annotations = []\n",
    "# for cell_id in f['cells']:\n",
    "#     cell = f['cells'][cell_id]\n",
    "#     ann = dict(cell.attrs)['annotation']\n",
    "#     if ann != 'unannotated' and cell_id in list(p_scores['cell_id']):\n",
    "#         annotated_cells.append(cell_id)\n",
    "#         annotations.append(ann)\n",
    "        \n",
    "# annotations_count = Counter(annotations)\n",
    "# print(\"Number of Annotated Samples:\", len(annotated_cells))\n",
    "# print(\"Num of Cell Types:\", len(annotations_count))\n",
    "# print(\"Max Number of Samples per Cell Type:\", max(annotations_count.values()))\n",
    "# print(\"Min Number of Samples per Cell Type:\", min(annotations_count.values()))\n",
    "# print(\"Average Number of Samples per Cell Type:\", sum(annotations_count.values())/93)"
   ]
  },
  {
   "cell_type": "code",
   "execution_count": 4,
   "id": "8bbac2fe",
   "metadata": {},
   "outputs": [],
   "source": [
    "# periphery data: shape (len(annotated_cells), num_genes)\n",
    "# num_genes = (p_scores['gene']).unique().shape[0]\n",
    "# cell_indices = {k: v for v, k in enumerate(list(p_scores['cell_id'].unique()))}\n",
    "# gene_indices = {k: v for v, k in enumerate(list(p_scores['gene'].unique()))}\n",
    "\n",
    "# periphery_data = np.zeros((len(annotated_cells), num_genes))\n",
    "# for cell_id in annotated_cells:\n",
    "#     subset = p_scores.loc[p_scores['cell_id'] == cell_id]\n",
    "#     for index, s in subset.iterrows():\n",
    "#         cell_index = cell_indices[cell_id]\n",
    "#         gene_index = gene_indices[s['gene']]\n",
    "#         periphery_data[cell_index][gene_index] = s['periphery_score']\n",
    "\n",
    "# np.save('periphery_data', periphery_data)\n",
    "\n",
    "periphery_data = np.load('periphery_data.npy')"
   ]
  },
  {
   "cell_type": "code",
   "execution_count": 5,
   "id": "5305c3ca",
   "metadata": {},
   "outputs": [
    {
     "ename": "MemoryError",
     "evalue": "Unable to allocate 6.02 GiB for an array with shape (17312, 288, 432, 3) and data type uint8",
     "output_type": "error",
     "traceback": [
      "\u001b[0;31m---------------------------------------------------------------------------\u001b[0m",
      "\u001b[0;31mMemoryError\u001b[0m                               Traceback (most recent call last)",
      "\u001b[0;32m/tmp/ipykernel_4100/2318840876.py\u001b[0m in \u001b[0;36m<module>\u001b[0;34m\u001b[0m\n\u001b[1;32m     27\u001b[0m \u001b[0;34m\u001b[0m\u001b[0m\n\u001b[1;32m     28\u001b[0m \u001b[0mimage_data\u001b[0m \u001b[0;34m=\u001b[0m \u001b[0mnp\u001b[0m\u001b[0;34m.\u001b[0m\u001b[0mload\u001b[0m\u001b[0;34m(\u001b[0m\u001b[0;34m'image_data.npy'\u001b[0m\u001b[0;34m)\u001b[0m\u001b[0;34m\u001b[0m\u001b[0;34m\u001b[0m\u001b[0m\n\u001b[0;32m---> 29\u001b[0;31m \u001b[0mimage_data\u001b[0m \u001b[0;34m=\u001b[0m \u001b[0mnp\u001b[0m\u001b[0;34m.\u001b[0m\u001b[0mrepeat\u001b[0m\u001b[0;34m(\u001b[0m\u001b[0mimage_data\u001b[0m\u001b[0;34m[\u001b[0m\u001b[0;34m...\u001b[0m\u001b[0;34m,\u001b[0m \u001b[0mnp\u001b[0m\u001b[0;34m.\u001b[0m\u001b[0mnewaxis\u001b[0m\u001b[0;34m]\u001b[0m\u001b[0;34m,\u001b[0m \u001b[0;36m3\u001b[0m\u001b[0;34m,\u001b[0m \u001b[0;34m-\u001b[0m\u001b[0;36m1\u001b[0m\u001b[0;34m)\u001b[0m\u001b[0;34m\u001b[0m\u001b[0;34m\u001b[0m\u001b[0m\n\u001b[0m",
      "\u001b[0;32m<__array_function__ internals>\u001b[0m in \u001b[0;36mrepeat\u001b[0;34m(*args, **kwargs)\u001b[0m\n",
      "\u001b[0;32m/opt/conda/lib/python3.7/site-packages/numpy/core/fromnumeric.py\u001b[0m in \u001b[0;36mrepeat\u001b[0;34m(a, repeats, axis)\u001b[0m\n\u001b[1;32m    477\u001b[0m \u001b[0;34m\u001b[0m\u001b[0m\n\u001b[1;32m    478\u001b[0m     \"\"\"\n\u001b[0;32m--> 479\u001b[0;31m     \u001b[0;32mreturn\u001b[0m \u001b[0m_wrapfunc\u001b[0m\u001b[0;34m(\u001b[0m\u001b[0ma\u001b[0m\u001b[0;34m,\u001b[0m \u001b[0;34m'repeat'\u001b[0m\u001b[0;34m,\u001b[0m \u001b[0mrepeats\u001b[0m\u001b[0;34m,\u001b[0m \u001b[0maxis\u001b[0m\u001b[0;34m=\u001b[0m\u001b[0maxis\u001b[0m\u001b[0;34m)\u001b[0m\u001b[0;34m\u001b[0m\u001b[0;34m\u001b[0m\u001b[0m\n\u001b[0m\u001b[1;32m    480\u001b[0m \u001b[0;34m\u001b[0m\u001b[0m\n\u001b[1;32m    481\u001b[0m \u001b[0;34m\u001b[0m\u001b[0m\n",
      "\u001b[0;32m/opt/conda/lib/python3.7/site-packages/numpy/core/fromnumeric.py\u001b[0m in \u001b[0;36m_wrapfunc\u001b[0;34m(obj, method, *args, **kwds)\u001b[0m\n\u001b[1;32m     56\u001b[0m \u001b[0;34m\u001b[0m\u001b[0m\n\u001b[1;32m     57\u001b[0m     \u001b[0;32mtry\u001b[0m\u001b[0;34m:\u001b[0m\u001b[0;34m\u001b[0m\u001b[0;34m\u001b[0m\u001b[0m\n\u001b[0;32m---> 58\u001b[0;31m         \u001b[0;32mreturn\u001b[0m \u001b[0mbound\u001b[0m\u001b[0;34m(\u001b[0m\u001b[0;34m*\u001b[0m\u001b[0margs\u001b[0m\u001b[0;34m,\u001b[0m \u001b[0;34m**\u001b[0m\u001b[0mkwds\u001b[0m\u001b[0;34m)\u001b[0m\u001b[0;34m\u001b[0m\u001b[0;34m\u001b[0m\u001b[0m\n\u001b[0m\u001b[1;32m     59\u001b[0m     \u001b[0;32mexcept\u001b[0m \u001b[0mTypeError\u001b[0m\u001b[0;34m:\u001b[0m\u001b[0;34m\u001b[0m\u001b[0;34m\u001b[0m\u001b[0m\n\u001b[1;32m     60\u001b[0m         \u001b[0;31m# A TypeError occurs if the object does have such a method in its\u001b[0m\u001b[0;34m\u001b[0m\u001b[0;34m\u001b[0m\u001b[0;34m\u001b[0m\u001b[0m\n",
      "\u001b[0;31mMemoryError\u001b[0m: Unable to allocate 6.02 GiB for an array with shape (17312, 288, 432, 3) and data type uint8"
     ]
    }
   ],
   "source": [
    "#image data: shape (len(annotated_cells), 228, 432))\n",
    "# image_data = np.zeros(shape=(len(annotated_cells), 288, 432)).astype('uint8')\n",
    "# fig = plt.figure()\n",
    "# plt.gray()\n",
    "# idx = 0\n",
    "# for cell_id in annotated_cells:\n",
    "#     cell = f['cells'][cell_id]\n",
    "#     keys = list(cell['boundaries'].keys())\n",
    "#     midpoint = keys[int(len(keys)/2)]\n",
    "#     boundary = cell['boundaries'][midpoint]\n",
    "#     xs = boundary[:,0]\n",
    "#     ys = boundary[:,1]\n",
    "#     plt.plot(xs,ys)\n",
    "#     plt.axis('equal')\n",
    "#     plt.xticks([])\n",
    "#     plt.yticks([])\n",
    "#     fig.canvas.draw()\n",
    "#     fig_array = np.frombuffer(fig.canvas.tostring_rgb(), dtype=np.uint8)\n",
    "#     fig_array = fig_array.reshape(fig.canvas.get_width_height()[::-1] + (3,))\n",
    "#     image_data[idx] = fig_array[:,:,0].astype('uint8')\n",
    "#     idx += 1\n",
    "#     plt.clf()\n",
    "#     print(f\"\\r{idx}\", end=\"\")\n",
    "  \n",
    "# print(image_data.shape)\n",
    "# np.save('image_data', image_data)\n",
    "\n",
    "image_data = np.load('image_data.npy')\n",
    "image_data = np.repeat(image_data[..., np.newaxis], 3, -1)"
   ]
  },
  {
   "cell_type": "code",
   "execution_count": null,
   "id": "a5540119",
   "metadata": {},
   "outputs": [],
   "source": [
    "# one hot encoded label vectors\n",
    "# annotation_indices = {k: v for v, k in enumerate(list(annotations_count.keys()))}\n",
    "# labels = np.zeros((len(annotated_cells), len(annotation_indices)))\n",
    "# for index in range(0, len(annotated_cells)):\n",
    "#     cell = f['cells'][annotated_cells[index]]\n",
    "#     ann = dict(cell.attrs)['annotation']\n",
    "#     arr_index = annotation_indices[ann]\n",
    "#     labels[index][arr_index] = 1\n",
    "# print(labels.shape)\n",
    "# np.save('labels', labels)\n",
    "\n",
    "labels = np.load('labels.npy')"
   ]
  },
  {
   "cell_type": "code",
   "execution_count": null,
   "id": "f371a035",
   "metadata": {},
   "outputs": [],
   "source": [
    "indices = [x for x in range(labels.shape[0])]\n",
    "train_indices, test = train_test_split(indices, test_size=0.3)\n",
    "test_indices, val_indices = train_test_split(test, test_size=0.5)\n",
    "\n",
    "image_train, periphery_train, labels_train = image_data[train_indices], periphery_data[train_indices], labels[train_indices]\n",
    "image_test, periphery_test, labels_test = image_data[test_indices], periphery_data[test_indices], labels[test_indices]\n",
    "image_val, periphery_val, labels_val = image_data[val_indices], periphery_data[val_indices], labels[val_indices]\n",
    "\n",
    "print(image_train.shape, periphery_train.shape, labels_train.shape)\n",
    "print(image_test.shape, periphery_test.shape, labels_test.shape)\n",
    "print(image_val.shape, periphery_val.shape, labels_val.shape)"
   ]
  },
  {
   "cell_type": "code",
   "execution_count": null,
   "id": "63520aaf",
   "metadata": {},
   "outputs": [],
   "source": [
    "# initializing individual models + late fusion model\n",
    "periphery_model = tf.keras.models.Sequential([tf.keras.layers.Input(192),\n",
    "                                    tf.keras.layers.Dense(100, activation=tf.nn.relu), \n",
    "                                    tf.keras.layers.Dense(50, activation=tf.nn.relu), \n",
    "                                    tf.keras.layers.Dense(25, activation=tf.nn.relu), \n",
    "                                    tf.keras.layers.Dense(80, activation=tf.nn.softmax)])\n",
    "\n",
    "image_model = tf.keras.models.Sequential([tf.keras.layers.Conv2D(32,(3,3),padding='same', activation='relu',input_shape=(288, 432, 3)),\n",
    "                                    tf.keras.layers.MaxPool2D((2,2)), \n",
    "                                    tf.keras.layers.Flatten(), \n",
    "                                    tf.keras.layers.Dense(64, activation=tf.nn.relu), \n",
    "                                    tf.keras.layers.Dense(80, activation=tf.nn.softmax)])\n",
    "\n",
    "model_concat = tf.keras.layers.concatenate([periphery_model.output, image_model.output], axis=-1)\n",
    "model_concat = tf.keras.layers.Dense(80, activation='softmax')(model_concat)\n",
    "model = tf.keras.models.Model(inputs=[periphery_model.input, image_model.input], outputs=model_concat)\n",
    "model.summary()"
   ]
  },
  {
   "cell_type": "code",
   "execution_count": null,
   "id": "d7abbc81",
   "metadata": {},
   "outputs": [],
   "source": [
    "# compiling late fusion model with exponential decay lr\n",
    "lr= tf.keras.optimizers.schedules.ExponentialDecay(\n",
    "    0.0001,\n",
    "    decay_steps=100000,\n",
    "    decay_rate=0.95,\n",
    "    staircase=True)\n",
    "\n",
    "# early stopping to prevent overfitting \n",
    "early_stopping = tf.keras.callbacks.EarlyStopping(monitor=\"val_loss\", patience=3, restore_best_weights=True)\n",
    "\n",
    "model.compile(loss='categorical_crossentropy',optimizer=tf.keras.optimizers.Adam(learning_rate=lr), metrics=['accuracy'])"
   ]
  },
  {
   "cell_type": "code",
   "execution_count": null,
   "id": "137f3dc0",
   "metadata": {},
   "outputs": [],
   "source": [
    "# late fusion model training\n",
    "model.fit(x=[periphery_train, image_train], y=labels_train, batch_size=128, epochs=1, validation_data=([periphery_val, image_val], labels_val))"
   ]
  },
  {
   "cell_type": "code",
   "execution_count": null,
   "id": "c9fcebb7",
   "metadata": {},
   "outputs": [],
   "source": [
    "# evaluation \n",
    "model.evaluate([periphery_test, image_test], y=labels_test)"
   ]
  },
  {
   "cell_type": "code",
   "execution_count": null,
   "id": "2d7bdb61",
   "metadata": {},
   "outputs": [],
   "source": [
    "# balanced accuracy evaluation\n"
   ]
  }
 ],
 "metadata": {
  "kernelspec": {
   "display_name": "Python 3",
   "language": "python",
   "name": "python3"
  },
  "language_info": {
   "codemirror_mode": {
    "name": "ipython",
    "version": 3
   },
   "file_extension": ".py",
   "mimetype": "text/x-python",
   "name": "python",
   "nbconvert_exporter": "python",
   "pygments_lexer": "ipython3",
   "version": "3.7.10"
  }
 },
 "nbformat": 4,
 "nbformat_minor": 5
}
